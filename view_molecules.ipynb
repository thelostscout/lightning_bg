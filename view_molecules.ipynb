{
 "cells": [
  {
   "cell_type": "code",
   "execution_count": 1,
   "id": "initial_id",
   "metadata": {
    "ExecuteTime": {
     "end_time": "2023-10-23T16:42:42.406725490Z",
     "start_time": "2023-10-23T16:42:42.343256103Z"
    }
   },
   "outputs": [
    {
     "data": {
      "application/vnd.jupyter.widget-view+json": {
       "model_id": "f524ada1d4144c0b8581a13e8700fc5c",
       "version_major": 2,
       "version_minor": 0
      },
      "text/plain": []
     },
     "metadata": {},
     "output_type": "display_data"
    }
   ],
   "source": [
    "import sys\n",
    "sys.path.append(\"/home/kortkamp/BG/lightning_bg/src/lightning_bg\")\n",
    "from evaluate import Evaluator, ShowTraj\n",
    "from architectures import get_network_by_name, BaseHParams\n",
    "from utils import dataset_setter\n",
    "import os\n",
    "import bgmol\n",
    "from bgmol.systems.peptide import peptide\n",
    "import yaml\n",
    "import mdtraj"
   ]
  },
  {
   "cell_type": "code",
   "execution_count": 2,
   "id": "db5140da3bbae005",
   "metadata": {
    "ExecuteTime": {
     "end_time": "2023-10-23T16:42:42.407195380Z",
     "start_time": "2023-10-23T16:42:42.385510735Z"
    },
    "collapsed": false,
    "jupyter": {
     "outputs_hidden": false
    }
   },
   "outputs": [],
   "source": [
    "data_path = \"./data\"\n",
    "param_path = \"./params\"\n",
    "molecule = \"/OppA/Peptides/1qka\" # change this for different molecule \n",
    "experiment_name = \"RNVPfwkl.yaml\" # change this for different experiment\n",
    "version = 1 # change this for different version"
   ]
  },
  {
   "cell_type": "code",
   "execution_count": 3,
   "id": "234edfdbfa877af0",
   "metadata": {
    "ExecuteTime": {
     "end_time": "2023-10-23T16:42:42.407872718Z",
     "start_time": "2023-10-23T16:42:42.385875077Z"
    },
    "collapsed": false,
    "jupyter": {
     "outputs_hidden": false
    }
   },
   "outputs": [
    {
     "data": {
      "text/plain": [
       "'./data/Molecules/OppA/Peptides/1qka'"
      ]
     },
     "execution_count": 3,
     "metadata": {},
     "output_type": "execute_result"
    }
   ],
   "source": [
    "molecule_path = os.path.join(data_path, \"Molecules\", molecule.lstrip(\"/\"))\n",
    "molecule_path"
   ]
  },
  {
   "cell_type": "code",
   "execution_count": 4,
   "id": "c4bc242b190a9100",
   "metadata": {
    "ExecuteTime": {
     "end_time": "2023-10-23T16:42:42.544957612Z",
     "start_time": "2023-10-23T16:42:42.394664597Z"
    },
    "collapsed": false,
    "jupyter": {
     "outputs_hidden": false
    }
   },
   "outputs": [
    {
     "name": "stdout",
     "output_type": "stream",
     "text": [
      "71 3\n"
     ]
    }
   ],
   "source": [
    "if \"Dialanine\" in molecule:\n",
    "    is_data_here = os.path.exists(molecule_path + \"/Ala2TSF300.npy\")\n",
    "    ala_data = bgmol.datasets.Ala2TSF300(download=not is_data_here, read=True, root=molecule_path)\n",
    "    system = ala_data.system\n",
    "    n_atoms = 22\n",
    "else:\n",
    "    with open(molecule_path.rstrip(\"/\") + \"/top.pdb\", 'r') as file:\n",
    "        lines = file.readlines()\n",
    "        lastline = lines[-3]\n",
    "        n_atoms = int(lastline[4:11].strip())\n",
    "        n_res = int(lastline[22:26].strip())\n",
    "        print(n_atoms, n_res)\n",
    "\n",
    "    # define system & energy model\n",
    "    system = peptide(short=False, n_atoms=n_atoms, n_res=n_res, filepath=molecule_path)"
   ]
  },
  {
   "cell_type": "code",
   "execution_count": 5,
   "id": "64c776aa356b941a",
   "metadata": {
    "ExecuteTime": {
     "end_time": "2023-10-23T16:46:54.728148712Z",
     "start_time": "2023-10-23T16:46:51.435268575Z"
    },
    "collapsed": false,
    "jupyter": {
     "outputs_hidden": false
    }
   },
   "outputs": [
    {
     "name": "stderr",
     "output_type": "stream",
     "text": [
      "/home/kortkamp/mambaforge/envs/lightning_bg/lib/python3.10/site-packages/pandas/core/computation/expressions.py:21: UserWarning: Pandas requires version '2.8.0' or newer of 'numexpr' (version '2.7.3' currently installed).\n",
      "  from pandas.core.computation.check import NUMEXPR_INSTALLED\n"
     ]
    },
    {
     "name": "stdout",
     "output_type": "stream",
     "text": [
      "tensor([ 0.7923,  1.8191,  1.5563,  0.8435,  1.8985,  1.5922,  0.8607,  1.7636,\n",
      "         1.5069,  0.7596,  1.7614,  1.6325,  0.6885,  1.8673,  1.4562,  0.7362,\n",
      "         1.9403,  1.3908,  0.5673,  1.9312,  1.5215,  0.5368,  1.9024,  1.6390,\n",
      "         0.6370,  1.7533,  1.3624,  0.7176,  1.7068,  1.3057,  0.5704,  1.7974,\n",
      "         1.2882,  0.5528,  1.6519,  1.4389,  0.4752,  1.7134,  1.4844,  0.6221,\n",
      "         1.6103,  1.5121,  0.4806,  1.5367,  1.3601,  0.4113,  1.5706,  1.2831,\n",
      "         0.4213,  1.4760,  1.4285,  0.5768,  1.4462,  1.2796,  0.5208,  1.3808,\n",
      "         1.2128,  0.6452,  1.5017,  1.2154,  0.6517,  1.3520,  1.3711,  0.7498,\n",
      "         1.3750,  1.3777,  0.6528,  1.2528,  1.3524,  0.6101,  1.3609,  1.4627,\n",
      "         0.5103,  2.0324,  1.4600,  0.5439,  2.0464,  1.3658,  0.3852,  2.0901,\n",
      "         1.4995,  0.3709,  2.0882,  1.6076,  0.2718,  2.0085,  1.4473,  0.2924,\n",
      "         1.9320,  1.3540,  0.3849,  2.2342,  1.4406,  0.2892,  2.2834,  1.4578,\n",
      "         0.4017,  2.2253,  1.3333,  0.4880,  2.3261,  1.5156,  0.5921,  2.2956,\n",
      "         1.5046,  0.4811,  2.4206,  1.4617,  0.4553,  2.3522,  1.6699,  0.3516,\n",
      "         2.3812,  1.6870,  0.4679,  2.2571,  1.7216,  0.5469,  2.4503,  1.7385,\n",
      "         0.5831,  2.5238,  1.6796,  0.5887,  2.4547,  1.8583,  0.5749,  2.3590,\n",
      "         1.9382,  0.5331,  2.2741,  1.9028,  0.6156,  2.3668,  2.0303,  0.6557,\n",
      "         2.5564,  1.9068,  0.6685,  2.6392,  1.8503,  0.7036,  2.5518,  1.9956,\n",
      "         0.1532,  2.0230,  1.5042,  0.1405,  2.0862,  1.5819,  0.0359,  1.9381,\n",
      "         1.4791,  0.0216,  1.9158,  1.3734, -0.0913,  2.0191,  1.5149, -0.1484,\n",
      "         2.0813,  1.4250,  0.0462,  1.8095,  1.5727,  0.0288,  1.8298,  1.6784,\n",
      "         0.1429,  1.7625,  1.5551, -0.0603,  1.7054,  1.5288, -0.1544,  1.7520,\n",
      "         1.5579, -0.0537,  1.6826,  1.4224, -0.0619,  1.5686,  1.5920,  0.0357,\n",
      "         1.5240,  1.5732, -0.0575,  1.5797,  1.7003, -0.1830,  1.4830,  1.5490,\n",
      "        -0.1599,  1.3799,  1.5757, -0.1896,  1.4845,  1.4402, -0.3106,  1.5233,\n",
      "         1.6154, -0.3006,  1.5028,  1.7138, -0.3466,  1.6163,  1.5996, -0.3839,\n",
      "         1.4621,  1.5826, -0.1242,  2.0389,  1.6342])\n"
     ]
    }
   ],
   "source": [
    "experiment_path = os.path.join(param_path, molecule.lstrip(\"/\"), experiment_name)\n",
    "with open(experiment_path) as f:  # TODO: this is stupid bc there is a hparams file in the version folder. use it instead!!\n",
    "    params = yaml.load(f, yaml.FullLoader)  # load the parameters\n",
    "ModelClass = get_network_by_name(params['network_name'])\n",
    "ParamClass = BaseHParams\n",
    "params['network_params']['n_dims'] = n_atoms * 3\n",
    "hparams = ParamClass(**params['network_params'])\n",
    "checkpoint = os.path.join(data_path, \"lightning_logs\", molecule.lstrip(\"/\"), experiment_name[:-5], f\"version_{version}\", \"checkpoints/epoch=4899-step=343000.ckpt\")\n",
    "# checkpoint = \"/home/kortkamp/helix/code/lightning_bg/data/lightning_logs/OppA/Peptides/1b4z/params/OppA/1b4z/RNVPfwkl20000/version_0/checkpoints/last.ckpt\"\n",
    "\n",
    "if \"Dialanine\" in molecule:\n",
    "    coordinates = ala_data.coordinates\n",
    "else:\n",
    "    traj = mdtraj.load_hdf5(molecule_path + \"/traj.h5\")\n",
    "    coordinates = traj.xyz\n",
    "train_split = params['training_params']['train_split']    \n",
    "train_data, val_data, test_data = dataset_setter(coordinates, system, val_split=(.8 - train_split), test_split=.2, seed=42)\n",
    "\n",
    "model = ModelClass.load_from_checkpoint(checkpoint, hparams=hparams, train_data=train_data, val_data=val_data)"
   ]
  },
  {
   "cell_type": "code",
   "execution_count": 6,
   "id": "648219ea-28a2-4169-980d-3290cf33a2bb",
   "metadata": {},
   "outputs": [
    {
     "data": {
      "text/plain": [
       "{'molecule': '/OppA/Peptides/1qka',\n",
       " 'network_name': 'RNVPfwkl',\n",
       " 'network_params': {'inn_depth': 10,\n",
       "  'subnet_max_width': 2000,\n",
       "  'subnet_depth': 8,\n",
       "  'batch_size': 1000,\n",
       "  'max_epochs': 20000,\n",
       "  'optimizer': {'name': 'Adam', 'lr': 3e-05},\n",
       "  'lr_scheduler': 'onecyclelr',\n",
       "  'latent_target_distribution': {'name': 'Normal', 'sigma': 1.0},\n",
       "  'gradient_clip': 10.0,\n",
       "  'n_dims': 213},\n",
       " 'training_params': {'train_split': 0.7},\n",
       " 'trainer_kwargs': {}}"
      ]
     },
     "execution_count": 6,
     "metadata": {},
     "output_type": "execute_result"
    }
   ],
   "source": [
    "params"
   ]
  },
  {
   "cell_type": "code",
   "execution_count": 7,
   "id": "af12fe0f6d15e719",
   "metadata": {
    "ExecuteTime": {
     "end_time": "2023-10-23T16:48:11.687652844Z",
     "start_time": "2023-10-23T16:48:11.356014118Z"
    },
    "collapsed": false,
    "jupyter": {
     "outputs_hidden": false
    }
   },
   "outputs": [],
   "source": [
    "x = model.generate_samples((100,))\n",
    "w = ShowTraj(x, system)"
   ]
  },
  {
   "cell_type": "code",
   "execution_count": 8,
   "id": "c2ded6da6ba6282a",
   "metadata": {
    "ExecuteTime": {
     "end_time": "2023-10-23T16:48:20.184337693Z",
     "start_time": "2023-10-23T16:48:20.178970939Z"
    },
    "collapsed": false,
    "jupyter": {
     "outputs_hidden": false
    }
   },
   "outputs": [
    {
     "data": {
      "application/vnd.jupyter.widget-view+json": {
       "model_id": "3ca7d15cf34f4f52a32684edd80dfb91",
       "version_major": 2,
       "version_minor": 0
      },
      "text/plain": [
       "ShowTraj(children=(NGLWidget(max_frame=99), BoundedFloatText(value=2214431.25, description='Energy:', max=1e+5…"
      ]
     },
     "execution_count": 8,
     "metadata": {},
     "output_type": "execute_result"
    }
   ],
   "source": [
    "w"
   ]
  },
  {
   "cell_type": "code",
   "execution_count": 11,
   "id": "4a5bf889-42bc-49af-9064-7d32c3b53d8c",
   "metadata": {},
   "outputs": [
    {
     "data": {
      "text/plain": [
       "(<Figure size 640x480 with 1 Axes>,\n",
       " <AxesSubplot:xlabel='Energy [$k_B T$]', ylabel='# samples'>)"
      ]
     },
     "execution_count": 11,
     "metadata": {},
     "output_type": "execute_result"
    },
    {
     "data": {
      "image/png": "[encoded data removed]",
      "text/plain": [
       "<Figure size 640x480 with 1 Axes>"
      ]
     },
     "metadata": {},
     "output_type": "display_data"
    }
   ],
   "source": [
    "E = Evaluator(model, system)\n",
    "E.energy_plot(rg=[-2000, 2000])"
   ]
  },
  {
   "cell_type": "code",
   "execution_count": null,
   "id": "69e7f35e-d2ef-4d68-a3ae-9bac380dd879",
   "metadata": {},
   "outputs": [],
   "source": []
  }
 ],
 "metadata": {
  "kernelspec": {
   "display_name": "Python 3 (ipykernel)",
   "language": "python",
   "name": "python3"
  },
  "language_info": {
   "codemirror_mode": {
    "name": "ipython",
    "version": 3
   },
   "file_extension": ".py",
   "mimetype": "text/x-python",
   "name": "python",
   "nbconvert_exporter": "python",
   "pygments_lexer": "ipython3",
   "version": "3.10.9"
  }
 },
 "nbformat": 4,
 "nbformat_minor": 5
}
