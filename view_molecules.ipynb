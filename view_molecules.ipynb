{
 "cells": [
  {
   "cell_type": "code",
   "execution_count": 20,
   "id": "initial_id",
   "metadata": {
    "ExecuteTime": {
     "end_time": "2023-11-16T15:28:39.674838901Z",
     "start_time": "2023-11-16T15:28:39.599059344Z"
    }
   },
   "outputs": [],
   "source": [
    "import sys\n",
    "import os\n",
    "sys.path.append(\"/home/kortkamp/helix/code/lightning_bg/src/lightning_bg\")\n",
    "from evaluate import Evaluator, ShowTraj\n",
    "from architectures import get_network_by_name, BaseHParams\n",
    "from utils import dataset_setter, Alignment\n",
    "import bgmol\n",
    "from bgmol.systems.peptide import peptide\n",
    "import yaml\n",
    "import mdtraj"
   ]
  },
  {
   "cell_type": "code",
   "execution_count": 21,
   "id": "db5140da3bbae005",
   "metadata": {
    "collapsed": false,
    "ExecuteTime": {
     "end_time": "2023-11-16T15:28:39.675161334Z",
     "start_time": "2023-11-16T15:28:39.641289435Z"
    }
   },
   "outputs": [],
   "source": [
    "data_path = \"./data\"\n",
    "param_path = \"./params\"\n",
    "molecule = \"/Dialanine\" # change this for different molecule \n",
    "experiment_name = \"RNVPrvkl_latent.yaml\" # change this for different experiment\n",
    "version = 1 # change this for different version"
   ]
  },
  {
   "cell_type": "code",
   "execution_count": 22,
   "id": "dd8af15a-4562-41cd-aa9b-01bd86de349f",
   "metadata": {
    "ExecuteTime": {
     "end_time": "2023-11-16T15:28:39.712971609Z",
     "start_time": "2023-11-16T15:28:39.641561665Z"
    }
   },
   "outputs": [
    {
     "data": {
      "text/plain": "'/home/kortkamp/helix/code/lightning_bg'"
     },
     "execution_count": 22,
     "metadata": {},
     "output_type": "execute_result"
    }
   ],
   "source": [
    "import os\n",
    "os.getcwd()"
   ]
  },
  {
   "cell_type": "code",
   "execution_count": 22,
   "id": "4611ec72-a8ea-469b-9617-f10d39a1d4b6",
   "metadata": {
    "ExecuteTime": {
     "end_time": "2023-11-16T15:28:39.746130673Z",
     "start_time": "2023-11-16T15:28:39.649358666Z"
    }
   },
   "outputs": [],
   "source": []
  },
  {
   "cell_type": "code",
   "execution_count": 23,
   "id": "234edfdbfa877af0",
   "metadata": {
    "collapsed": false,
    "ExecuteTime": {
     "end_time": "2023-11-16T15:28:39.746698456Z",
     "start_time": "2023-11-16T15:28:39.690391755Z"
    }
   },
   "outputs": [
    {
     "data": {
      "text/plain": "'./data/Molecules/Dialanine'"
     },
     "execution_count": 23,
     "metadata": {},
     "output_type": "execute_result"
    }
   ],
   "source": [
    "molecule_path = os.path.join(data_path, \"Molecules\", molecule.lstrip(\"/\"))\n",
    "molecule_path"
   ]
  },
  {
   "cell_type": "code",
   "execution_count": 24,
   "id": "c4bc242b190a9100",
   "metadata": {
    "collapsed": false,
    "ExecuteTime": {
     "end_time": "2023-11-16T15:28:42.768888213Z",
     "start_time": "2023-11-16T15:28:39.690689192Z"
    }
   },
   "outputs": [
    {
     "name": "stdout",
     "output_type": "stream",
     "text": [
      "Using downloaded and verified file: /tmp/alanine-dipeptide-nowater.pdb\n"
     ]
    }
   ],
   "source": [
    "if \"Dialanine\" in molecule:\n",
    "    is_data_here = os.path.exists(molecule_path + \"/Ala2TSF300.npy\")\n",
    "    ala_data = bgmol.datasets.Ala2TSF300(download=not is_data_here, read=True, root=molecule_path)\n",
    "    system = ala_data.system\n",
    "    n_atoms = 22\n",
    "else:\n",
    "    with open(molecule_path.rstrip(\"/\") + \"/top.pdb\", 'r') as file:\n",
    "        lines = file.readlines()\n",
    "        lastline = lines[-3]\n",
    "        n_atoms = int(lastline[4:11].strip())\n",
    "        n_res = int(lastline[22:26].strip())\n",
    "        print(n_atoms, n_res)\n",
    "\n",
    "    # define system & energy model\n",
    "    system = peptide(short=False, n_atoms=n_atoms, n_res=n_res, filepath=molecule_path)\n",
    "system.reinitialize_energy_model(n_workers=1)"
   ]
  },
  {
   "cell_type": "code",
   "execution_count": 25,
   "id": "47ff6db4-27a8-4790-aaba-146e1d9ae8be",
   "metadata": {
    "ExecuteTime": {
     "end_time": "2023-11-16T15:28:42.780931235Z",
     "start_time": "2023-11-16T15:28:42.770643650Z"
    }
   },
   "outputs": [],
   "source": [
    "import ipdb"
   ]
  },
  {
   "cell_type": "code",
   "execution_count": 26,
   "id": "64c776aa356b941a",
   "metadata": {
    "collapsed": false,
    "ExecuteTime": {
     "end_time": "2023-11-16T15:28:49.675455205Z",
     "start_time": "2023-11-16T15:28:42.779932906Z"
    }
   },
   "outputs": [],
   "source": [
    "experiment_path = os.path.join(param_path, molecule.lstrip(\"/\"), experiment_name)\n",
    "with open(experiment_path) as f:  # TODO: this is stupid bc there is a hparams file in the version folder. use it instead!!\n",
    "    params = yaml.load(f, yaml.FullLoader)  # load the parameters\n",
    "ModelClass = get_network_by_name(params['network_name'])\n",
    "ParamClass = ModelClass.hparams_type\n",
    "params['network_params']['n_dims'] = n_atoms * 3\n",
    "hparams = ParamClass(**params['network_params'])\n",
    "checkpoint = os.path.join(data_path, \"lightning_logs\", molecule.lstrip(\"/\"), experiment_name[:-5], f\"version_{version}\", \"checkpoints/last.ckpt\")\n",
    "# checkpoint = \"/home/kortkamp/helix/code/lightning_bg/data/lightning_logs/OppA/Peptides/1b4z/params/OppA/1b4z/RNVPfwkl20000/version_0/checkpoints/last.ckpt\"\n",
    "\n",
    "if \"Dialanine\" in molecule:\n",
    "    coordinates = ala_data.coordinates\n",
    "else:\n",
    "    traj = mdtraj.load_hdf5(molecule_path + \"/traj.h5\")\n",
    "    coordinates = traj.xyz\n",
    "train_split = params['training_params']['train_split']    \n",
    "train_data, val_data, test_data = dataset_setter(coordinates, system, val_split=(.8 - train_split), test_split=.2, seed=42)\n",
    "\n",
    "model = ModelClass.load_from_checkpoint(checkpoint, hparams=hparams, train_data=train_data, val_data=val_data, energy_function=system.energy_model, alignment_penalty=Alignment(system, train_data.reference_molecule).penalty)"
   ]
  },
  {
   "cell_type": "code",
   "execution_count": 27,
   "id": "af12fe0f6d15e719",
   "metadata": {
    "collapsed": false,
    "ExecuteTime": {
     "end_time": "2023-11-16T15:28:49.926524392Z",
     "start_time": "2023-11-16T15:28:49.675333868Z"
    }
   },
   "outputs": [
    {
     "ename": "ValueError",
     "evalue": "coordinate \"-180170300.0\" could not be represnted in a width-8 field",
     "output_type": "error",
     "traceback": [
      "\u001B[0;31m---------------------------------------------------------------------------\u001B[0m",
      "\u001B[0;31mValueError\u001B[0m                                Traceback (most recent call last)",
      "Cell \u001B[0;32mIn[27], line 2\u001B[0m\n\u001B[1;32m      1\u001B[0m x \u001B[38;5;241m=\u001B[39m model\u001B[38;5;241m.\u001B[39msample((\u001B[38;5;241m100\u001B[39m,))\n\u001B[0;32m----> 2\u001B[0m w \u001B[38;5;241m=\u001B[39m \u001B[43mShowTraj\u001B[49m\u001B[43m(\u001B[49m\u001B[43mx\u001B[49m\u001B[43m,\u001B[49m\u001B[43m \u001B[49m\u001B[43msystem\u001B[49m\u001B[43m)\u001B[49m\n",
      "File \u001B[0;32m~/helix/code/lightning_bg/src/lightning_bg/evaluate.py:37\u001B[0m, in \u001B[0;36mShowTraj.__init__\u001B[0;34m(self, samples, system, **kwargs)\u001B[0m\n\u001B[1;32m     34\u001B[0m system\u001B[38;5;241m.\u001B[39mreinitialize_energy_model(temperature\u001B[38;5;241m=\u001B[39m\u001B[38;5;241m300.\u001B[39m, n_workers\u001B[38;5;241m=\u001B[39m\u001B[38;5;241m1\u001B[39m)\n\u001B[1;32m     35\u001B[0m energies \u001B[38;5;241m=\u001B[39m system\u001B[38;5;241m.\u001B[39menergy_model\u001B[38;5;241m.\u001B[39menergy(samples)\n\u001B[0;32m---> 37\u001B[0m \u001B[38;5;28;43msuper\u001B[39;49m\u001B[43m(\u001B[49m\u001B[43m)\u001B[49m\u001B[38;5;241;43m.\u001B[39;49m\u001B[38;5;21;43m__init__\u001B[39;49m\u001B[43m(\u001B[49m\u001B[43mtraj\u001B[49m\u001B[43m,\u001B[49m\u001B[43m \u001B[49m\u001B[43menergies\u001B[49m\u001B[43m,\u001B[49m\u001B[43m \u001B[49m\u001B[38;5;241;43m*\u001B[39;49m\u001B[38;5;241;43m*\u001B[39;49m\u001B[43mkwargs\u001B[49m\u001B[43m)\u001B[49m\n",
      "File \u001B[0;32m~/helix/code/lightning_bg/src/lightning_bg/evaluate.py:22\u001B[0m, in \u001B[0;36mShowTrajSimple.__init__\u001B[0;34m(self, traj, energies, **kwargs)\u001B[0m\n\u001B[1;32m     13\u001B[0m \u001B[38;5;28mself\u001B[39m\u001B[38;5;241m.\u001B[39menergies \u001B[38;5;241m=\u001B[39m energies\n\u001B[1;32m     15\u001B[0m \u001B[38;5;28mself\u001B[39m\u001B[38;5;241m.\u001B[39mwnumber \u001B[38;5;241m=\u001B[39m ipw\u001B[38;5;241m.\u001B[39mBoundedFloatText(\n\u001B[1;32m     16\u001B[0m     value\u001B[38;5;241m=\u001B[39mnp\u001B[38;5;241m.\u001B[39maround(\u001B[38;5;28mself\u001B[39m\u001B[38;5;241m.\u001B[39menergies[\u001B[38;5;241m0\u001B[39m]\u001B[38;5;241m.\u001B[39mitem(), decimals\u001B[38;5;241m=\u001B[39m\u001B[38;5;241m2\u001B[39m),\n\u001B[1;32m     17\u001B[0m     description\u001B[38;5;241m=\u001B[39m\u001B[38;5;124m'\u001B[39m\u001B[38;5;124mEnergy:\u001B[39m\u001B[38;5;124m'\u001B[39m,\n\u001B[0;32m   (...)\u001B[0m\n\u001B[1;32m     20\u001B[0m     \u001B[38;5;28mmax\u001B[39m\u001B[38;5;241m=\u001B[39m\u001B[38;5;241m1e50\u001B[39m\n\u001B[1;32m     21\u001B[0m )\n\u001B[0;32m---> 22\u001B[0m \u001B[38;5;28mself\u001B[39m\u001B[38;5;241m.\u001B[39mwtraj \u001B[38;5;241m=\u001B[39m \u001B[43mnglview\u001B[49m\u001B[38;5;241;43m.\u001B[39;49m\u001B[43mshow_mdtraj\u001B[49m\u001B[43m(\u001B[49m\u001B[43mtraj\u001B[49m\u001B[43m)\u001B[49m\n\u001B[1;32m     23\u001B[0m \u001B[38;5;28mself\u001B[39m\u001B[38;5;241m.\u001B[39mwtraj\u001B[38;5;241m.\u001B[39m_iplayer\u001B[38;5;241m.\u001B[39m_trait_values[\u001B[38;5;124m\"\u001B[39m\u001B[38;5;124mchildren\u001B[39m\u001B[38;5;124m\"\u001B[39m][\u001B[38;5;241m1\u001B[39m]\u001B[38;5;241m.\u001B[39mobserve(\u001B[38;5;28mself\u001B[39m\u001B[38;5;241m.\u001B[39mon_value_change, names\u001B[38;5;241m=\u001B[39m\u001B[38;5;124m'\u001B[39m\u001B[38;5;124mvalue\u001B[39m\u001B[38;5;124m'\u001B[39m)\n\u001B[1;32m     25\u001B[0m \u001B[38;5;28msuper\u001B[39m()\u001B[38;5;241m.\u001B[39m\u001B[38;5;21m__init__\u001B[39m(children\u001B[38;5;241m=\u001B[39m[\u001B[38;5;28mself\u001B[39m\u001B[38;5;241m.\u001B[39mwtraj, \u001B[38;5;28mself\u001B[39m\u001B[38;5;241m.\u001B[39mwnumber], \u001B[38;5;241m*\u001B[39m\u001B[38;5;241m*\u001B[39mkwargs)\n",
      "File \u001B[0;32m~/mambaforge/envs/lightning_bg/lib/python3.10/site-packages/nglview/show.py:296\u001B[0m, in \u001B[0;36mshow_mdtraj\u001B[0;34m(mdtraj_trajectory, **kwargs)\u001B[0m\n\u001B[1;32m    285\u001B[0m \u001B[38;5;250m\u001B[39m\u001B[38;5;124;03m'''Show mdtraj trajectory.\u001B[39;00m\n\u001B[1;32m    286\u001B[0m \n\u001B[1;32m    287\u001B[0m \u001B[38;5;124;03mExamples\u001B[39;00m\n\u001B[0;32m   (...)\u001B[0m\n\u001B[1;32m    293\u001B[0m \u001B[38;5;124;03m... w\u001B[39;00m\n\u001B[1;32m    294\u001B[0m \u001B[38;5;124;03m'''\u001B[39;00m\n\u001B[1;32m    295\u001B[0m structure_trajectory \u001B[38;5;241m=\u001B[39m MDTrajTrajectory(mdtraj_trajectory)\n\u001B[0;32m--> 296\u001B[0m \u001B[38;5;28;01mreturn\u001B[39;00m \u001B[43mNGLWidget\u001B[49m\u001B[43m(\u001B[49m\u001B[43mstructure_trajectory\u001B[49m\u001B[43m,\u001B[49m\u001B[43m \u001B[49m\u001B[38;5;241;43m*\u001B[39;49m\u001B[38;5;241;43m*\u001B[39;49m\u001B[43mkwargs\u001B[49m\u001B[43m)\u001B[49m\n",
      "File \u001B[0;32m~/mambaforge/envs/lightning_bg/lib/python3.10/site-packages/nglview/widget.py:237\u001B[0m, in \u001B[0;36mNGLWidget.__init__\u001B[0;34m(self, structure, representations, parameters, **kwargs)\u001B[0m\n\u001B[1;32m    235\u001B[0m \u001B[38;5;28;01mif\u001B[39;00m \u001B[38;5;28misinstance\u001B[39m(structure, Trajectory):\n\u001B[1;32m    236\u001B[0m     name \u001B[38;5;241m=\u001B[39m py_utils\u001B[38;5;241m.\u001B[39mget_name(structure, \u001B[38;5;241m*\u001B[39m\u001B[38;5;241m*\u001B[39mkwargs)\n\u001B[0;32m--> 237\u001B[0m     \u001B[38;5;28;43mself\u001B[39;49m\u001B[38;5;241;43m.\u001B[39;49m\u001B[43madd_trajectory\u001B[49m\u001B[43m(\u001B[49m\u001B[43mstructure\u001B[49m\u001B[43m,\u001B[49m\u001B[43m \u001B[49m\u001B[43mname\u001B[49m\u001B[38;5;241;43m=\u001B[39;49m\u001B[43mname\u001B[49m\u001B[43m,\u001B[49m\u001B[43m \u001B[49m\u001B[38;5;241;43m*\u001B[39;49m\u001B[38;5;241;43m*\u001B[39;49m\u001B[43mkwargs\u001B[49m\u001B[43m)\u001B[49m\n\u001B[1;32m    238\u001B[0m \u001B[38;5;28;01melif\u001B[39;00m \u001B[38;5;28misinstance\u001B[39m(structure, (\u001B[38;5;28mlist\u001B[39m, \u001B[38;5;28mtuple\u001B[39m)):\n\u001B[1;32m    239\u001B[0m     trajectories \u001B[38;5;241m=\u001B[39m structure\n",
      "File \u001B[0;32m~/mambaforge/envs/lightning_bg/lib/python3.10/site-packages/nglview/widget.py:1160\u001B[0m, in \u001B[0;36mNGLWidget.add_trajectory\u001B[0;34m(self, trajectory, **kwargs)\u001B[0m\n\u001B[1;32m   1157\u001B[0m \u001B[38;5;28;01melse\u001B[39;00m:\n\u001B[1;32m   1158\u001B[0m     trajectory \u001B[38;5;241m=\u001B[39m trajectory\n\u001B[0;32m-> 1160\u001B[0m \u001B[38;5;28;43mself\u001B[39;49m\u001B[38;5;241;43m.\u001B[39;49m\u001B[43m_load_data\u001B[49m\u001B[43m(\u001B[49m\u001B[43mtrajectory\u001B[49m\u001B[43m,\u001B[49m\u001B[43m \u001B[49m\u001B[38;5;241;43m*\u001B[39;49m\u001B[38;5;241;43m*\u001B[39;49m\u001B[43mkwargs\u001B[49m\u001B[43m)\u001B[49m\n\u001B[1;32m   1161\u001B[0m \u001B[38;5;28msetattr\u001B[39m(trajectory, \u001B[38;5;124m'\u001B[39m\u001B[38;5;124mshown\u001B[39m\u001B[38;5;124m'\u001B[39m, \u001B[38;5;28;01mTrue\u001B[39;00m)\n\u001B[1;32m   1162\u001B[0m \u001B[38;5;28mself\u001B[39m\u001B[38;5;241m.\u001B[39m_trajlist\u001B[38;5;241m.\u001B[39mappend(trajectory)\n",
      "File \u001B[0;32m~/mambaforge/envs/lightning_bg/lib/python3.10/site-packages/nglview/widget.py:1238\u001B[0m, in \u001B[0;36mNGLWidget._load_data\u001B[0;34m(self, obj, **kwargs)\u001B[0m\n\u001B[1;32m   1236\u001B[0m \u001B[38;5;28;01mif\u001B[39;00m \u001B[38;5;129;01mnot\u001B[39;00m is_url:\n\u001B[1;32m   1237\u001B[0m     \u001B[38;5;28;01mif\u001B[39;00m \u001B[38;5;28mhasattr\u001B[39m(obj, \u001B[38;5;124m'\u001B[39m\u001B[38;5;124mget_structure_string\u001B[39m\u001B[38;5;124m'\u001B[39m):\n\u001B[0;32m-> 1238\u001B[0m         blob \u001B[38;5;241m=\u001B[39m \u001B[43mobj\u001B[49m\u001B[38;5;241;43m.\u001B[39;49m\u001B[43mget_structure_string\u001B[49m\u001B[43m(\u001B[49m\u001B[43m)\u001B[49m\n\u001B[1;32m   1239\u001B[0m         kwargs2[\u001B[38;5;124m'\u001B[39m\u001B[38;5;124mext\u001B[39m\u001B[38;5;124m'\u001B[39m] \u001B[38;5;241m=\u001B[39m obj\u001B[38;5;241m.\u001B[39mext\n\u001B[1;32m   1240\u001B[0m         passing_buffer \u001B[38;5;241m=\u001B[39m \u001B[38;5;28;01mTrue\u001B[39;00m\n",
      "File \u001B[0;32m~/mambaforge/envs/lightning_bg/lib/python3.10/site-packages/nglview/adaptor.py:337\u001B[0m, in \u001B[0;36mMDTrajTrajectory.get_structure_string\u001B[0;34m(self)\u001B[0m\n\u001B[1;32m    336\u001B[0m \u001B[38;5;28;01mdef\u001B[39;00m \u001B[38;5;21mget_structure_string\u001B[39m(\u001B[38;5;28mself\u001B[39m):\n\u001B[0;32m--> 337\u001B[0m     \u001B[38;5;28;01mreturn\u001B[39;00m \u001B[43m_get_structure_string\u001B[49m\u001B[43m(\u001B[49m\u001B[38;5;28;43mself\u001B[39;49m\u001B[38;5;241;43m.\u001B[39;49m\u001B[43mtrajectory\u001B[49m\u001B[43m[\u001B[49m\u001B[38;5;241;43m0\u001B[39;49m\u001B[43m]\u001B[49m\u001B[38;5;241;43m.\u001B[39;49m\u001B[43msave_pdb\u001B[49m\u001B[43m)\u001B[49m\n",
      "File \u001B[0;32m~/mambaforge/envs/lightning_bg/lib/python3.10/site-packages/nglview/adaptor.py:59\u001B[0m, in \u001B[0;36m_get_structure_string\u001B[0;34m(write_method, suffix)\u001B[0m\n\u001B[1;32m     57\u001B[0m \u001B[38;5;28;01mdef\u001B[39;00m \u001B[38;5;21m_get_structure_string\u001B[39m(write_method, suffix\u001B[38;5;241m=\u001B[39m\u001B[38;5;124m'\u001B[39m\u001B[38;5;124m.pdb\u001B[39m\u001B[38;5;124m'\u001B[39m):\n\u001B[1;32m     58\u001B[0m     \u001B[38;5;28;01mwith\u001B[39;00m mkstemp_wrapper(suffix\u001B[38;5;241m=\u001B[39msuffix) \u001B[38;5;28;01mas\u001B[39;00m fname:\n\u001B[0;32m---> 59\u001B[0m         \u001B[43mwrite_method\u001B[49m\u001B[43m(\u001B[49m\u001B[43mfname\u001B[49m\u001B[43m)\u001B[49m\n\u001B[1;32m     60\u001B[0m         \u001B[38;5;28;01mwith\u001B[39;00m \u001B[38;5;28mopen\u001B[39m(fname) \u001B[38;5;28;01mas\u001B[39;00m fh:\n\u001B[1;32m     61\u001B[0m             \u001B[38;5;28;01mreturn\u001B[39;00m fh\u001B[38;5;241m.\u001B[39mread()\n",
      "File \u001B[0;32m~/mambaforge/envs/lightning_bg/lib/python3.10/site-packages/mdtraj/core/trajectory.py:1476\u001B[0m, in \u001B[0;36mTrajectory.save_pdb\u001B[0;34m(self, filename, force_overwrite, bfactors)\u001B[0m\n\u001B[1;32m   1469\u001B[0m     f\u001B[38;5;241m.\u001B[39mwrite(in_units_of(\u001B[38;5;28mself\u001B[39m\u001B[38;5;241m.\u001B[39m_xyz[i], Trajectory\u001B[38;5;241m.\u001B[39m_distance_unit, f\u001B[38;5;241m.\u001B[39mdistance_unit),\n\u001B[1;32m   1470\u001B[0m             \u001B[38;5;28mself\u001B[39m\u001B[38;5;241m.\u001B[39mtopology,\n\u001B[1;32m   1471\u001B[0m             modelIndex\u001B[38;5;241m=\u001B[39mi,\n\u001B[1;32m   1472\u001B[0m             bfactors\u001B[38;5;241m=\u001B[39mbfactors[i],\n\u001B[1;32m   1473\u001B[0m             unitcell_lengths\u001B[38;5;241m=\u001B[39min_units_of(\u001B[38;5;28mself\u001B[39m\u001B[38;5;241m.\u001B[39munitcell_lengths[i], Trajectory\u001B[38;5;241m.\u001B[39m_distance_unit, f\u001B[38;5;241m.\u001B[39mdistance_unit),\n\u001B[1;32m   1474\u001B[0m             unitcell_angles\u001B[38;5;241m=\u001B[39m\u001B[38;5;28mself\u001B[39m\u001B[38;5;241m.\u001B[39munitcell_angles[i])\n\u001B[1;32m   1475\u001B[0m \u001B[38;5;28;01melse\u001B[39;00m:\n\u001B[0;32m-> 1476\u001B[0m     \u001B[43mf\u001B[49m\u001B[38;5;241;43m.\u001B[39;49m\u001B[43mwrite\u001B[49m\u001B[43m(\u001B[49m\u001B[43min_units_of\u001B[49m\u001B[43m(\u001B[49m\u001B[38;5;28;43mself\u001B[39;49m\u001B[38;5;241;43m.\u001B[39;49m\u001B[43m_xyz\u001B[49m\u001B[43m[\u001B[49m\u001B[43mi\u001B[49m\u001B[43m]\u001B[49m\u001B[43m,\u001B[49m\u001B[43m \u001B[49m\u001B[43mTrajectory\u001B[49m\u001B[38;5;241;43m.\u001B[39;49m\u001B[43m_distance_unit\u001B[49m\u001B[43m,\u001B[49m\u001B[43m \u001B[49m\u001B[43mf\u001B[49m\u001B[38;5;241;43m.\u001B[39;49m\u001B[43mdistance_unit\u001B[49m\u001B[43m)\u001B[49m\u001B[43m,\u001B[49m\n\u001B[1;32m   1477\u001B[0m \u001B[43m            \u001B[49m\u001B[38;5;28;43mself\u001B[39;49m\u001B[38;5;241;43m.\u001B[39;49m\u001B[43mtopology\u001B[49m\u001B[43m,\u001B[49m\n\u001B[1;32m   1478\u001B[0m \u001B[43m            \u001B[49m\u001B[43mmodelIndex\u001B[49m\u001B[38;5;241;43m=\u001B[39;49m\u001B[43mi\u001B[49m\u001B[43m,\u001B[49m\n\u001B[1;32m   1479\u001B[0m \u001B[43m            \u001B[49m\u001B[43mbfactors\u001B[49m\u001B[38;5;241;43m=\u001B[39;49m\u001B[43mbfactors\u001B[49m\u001B[43m[\u001B[49m\u001B[43mi\u001B[49m\u001B[43m]\u001B[49m\u001B[43m)\u001B[49m\n",
      "File \u001B[0;32m~/mambaforge/envs/lightning_bg/lib/python3.10/site-packages/mdtraj/formats/pdb/pdbfile.py:365\u001B[0m, in \u001B[0;36mPDBTrajectoryFile.write\u001B[0;34m(self, positions, topology, modelIndex, unitcell_lengths, unitcell_angles, bfactors)\u001B[0m\n\u001B[1;32m    361\u001B[0m \u001B[38;5;28;01melse\u001B[39;00m:\n\u001B[1;32m    362\u001B[0m     atomSerial \u001B[38;5;241m=\u001B[39m atomIndex\n\u001B[1;32m    363\u001B[0m line \u001B[38;5;241m=\u001B[39m \u001B[38;5;124m\"\u001B[39m\u001B[38;5;124mATOM  \u001B[39m\u001B[38;5;132;01m%5d\u001B[39;00m\u001B[38;5;124m \u001B[39m\u001B[38;5;132;01m%-4s\u001B[39;00m\u001B[38;5;124m \u001B[39m\u001B[38;5;132;01m%3s\u001B[39;00m\u001B[38;5;124m \u001B[39m\u001B[38;5;132;01m%1s\u001B[39;00m\u001B[38;5;132;01m%4d\u001B[39;00m\u001B[38;5;124m    \u001B[39m\u001B[38;5;132;01m%s\u001B[39;00m\u001B[38;5;132;01m%s\u001B[39;00m\u001B[38;5;132;01m%s\u001B[39;00m\u001B[38;5;124m  1.00 \u001B[39m\u001B[38;5;132;01m%5s\u001B[39;00m\u001B[38;5;124m      \u001B[39m\u001B[38;5;132;01m%-4s\u001B[39;00m\u001B[38;5;132;01m%2s\u001B[39;00m\u001B[38;5;124m  \u001B[39m\u001B[38;5;124m\"\u001B[39m \u001B[38;5;241m%\u001B[39m ( \u001B[38;5;66;03m# Right-justify atom symbol\u001B[39;00m\n\u001B[1;32m    364\u001B[0m     atomSerial \u001B[38;5;241m%\u001B[39m \u001B[38;5;241m100000\u001B[39m, atomName, resName, chainName,\n\u001B[0;32m--> 365\u001B[0m     (res\u001B[38;5;241m.\u001B[39mresSeq) \u001B[38;5;241m%\u001B[39m \u001B[38;5;241m10000\u001B[39m, \u001B[43m_format_83\u001B[49m\u001B[43m(\u001B[49m\u001B[43mcoords\u001B[49m\u001B[43m[\u001B[49m\u001B[38;5;241;43m0\u001B[39;49m\u001B[43m]\u001B[49m\u001B[43m)\u001B[49m,\n\u001B[1;32m    366\u001B[0m     _format_83(coords[\u001B[38;5;241m1\u001B[39m]), _format_83(coords[\u001B[38;5;241m2\u001B[39m]),\n\u001B[1;32m    367\u001B[0m     bfactors[posIndex], atom\u001B[38;5;241m.\u001B[39msegment_id[:\u001B[38;5;241m4\u001B[39m], symbol[\u001B[38;5;241m-\u001B[39m\u001B[38;5;241m2\u001B[39m:])\n\u001B[1;32m    368\u001B[0m \u001B[38;5;28;01massert\u001B[39;00m \u001B[38;5;28mlen\u001B[39m(line) \u001B[38;5;241m==\u001B[39m \u001B[38;5;241m80\u001B[39m, \u001B[38;5;124m'\u001B[39m\u001B[38;5;124mFixed width overflow detected\u001B[39m\u001B[38;5;124m'\u001B[39m\n\u001B[1;32m    369\u001B[0m \u001B[38;5;28mprint\u001B[39m(line, file\u001B[38;5;241m=\u001B[39m\u001B[38;5;28mself\u001B[39m\u001B[38;5;241m.\u001B[39m_file)\n",
      "File \u001B[0;32m~/mambaforge/envs/lightning_bg/lib/python3.10/site-packages/mdtraj/formats/pdb/pdbfile.py:714\u001B[0m, in \u001B[0;36m_format_83\u001B[0;34m(f)\u001B[0m\n\u001B[1;32m    712\u001B[0m \u001B[38;5;28;01mif\u001B[39;00m \u001B[38;5;241m-\u001B[39m\u001B[38;5;241m9999999\u001B[39m \u001B[38;5;241m<\u001B[39m f \u001B[38;5;241m<\u001B[39m \u001B[38;5;241m99999999\u001B[39m:\n\u001B[1;32m    713\u001B[0m     \u001B[38;5;28;01mreturn\u001B[39;00m (\u001B[38;5;124m'\u001B[39m\u001B[38;5;132;01m%8.3f\u001B[39;00m\u001B[38;5;124m'\u001B[39m \u001B[38;5;241m%\u001B[39m f)[:\u001B[38;5;241m8\u001B[39m]\n\u001B[0;32m--> 714\u001B[0m \u001B[38;5;28;01mraise\u001B[39;00m \u001B[38;5;167;01mValueError\u001B[39;00m(\u001B[38;5;124m'\u001B[39m\u001B[38;5;124mcoordinate \u001B[39m\u001B[38;5;124m\"\u001B[39m\u001B[38;5;132;01m%s\u001B[39;00m\u001B[38;5;124m\"\u001B[39m\u001B[38;5;124m could not be represnted \u001B[39m\u001B[38;5;124m'\u001B[39m\n\u001B[1;32m    715\u001B[0m                  \u001B[38;5;124m'\u001B[39m\u001B[38;5;124min a width-8 field\u001B[39m\u001B[38;5;124m'\u001B[39m \u001B[38;5;241m%\u001B[39m f)\n",
      "\u001B[0;31mValueError\u001B[0m: coordinate \"-180170300.0\" could not be represnted in a width-8 field"
     ]
    }
   ],
   "source": [
    "x = model.sample((100,))\n",
    "w = ShowTraj(x, system)"
   ]
  },
  {
   "cell_type": "code",
   "execution_count": null,
   "id": "c2ded6da6ba6282a",
   "metadata": {
    "collapsed": false,
    "ExecuteTime": {
     "start_time": "2023-11-16T15:28:49.911577833Z"
    }
   },
   "outputs": [],
   "source": [
    "w"
   ]
  },
  {
   "cell_type": "code",
   "execution_count": 30,
   "id": "4a5bf889-42bc-49af-9064-7d32c3b53d8c",
   "metadata": {
    "ExecuteTime": {
     "end_time": "2023-11-16T15:50:07.350409164Z",
     "start_time": "2023-11-16T15:49:37.255130212Z"
    }
   },
   "outputs": [
    {
     "ename": "KeyboardInterrupt",
     "evalue": "",
     "output_type": "error",
     "traceback": [
      "\u001B[0;31m---------------------------------------------------------------------------\u001B[0m",
      "\u001B[0;31mKeyboardInterrupt\u001B[0m                         Traceback (most recent call last)",
      "Cell \u001B[0;32mIn[30], line 2\u001B[0m\n\u001B[1;32m      1\u001B[0m E \u001B[38;5;241m=\u001B[39m Evaluator(model, system)\n\u001B[0;32m----> 2\u001B[0m \u001B[43mE\u001B[49m\u001B[38;5;241;43m.\u001B[39;49m\u001B[43menergy_plot\u001B[49m\u001B[43m(\u001B[49m\u001B[43mrg\u001B[49m\u001B[38;5;241;43m=\u001B[39;49m\u001B[43m[\u001B[49m\u001B[38;5;241;43m-\u001B[39;49m\u001B[38;5;241;43m2000\u001B[39;49m\u001B[43m,\u001B[49m\u001B[43m \u001B[49m\u001B[38;5;241;43m2000\u001B[39;49m\u001B[43m]\u001B[49m\u001B[43m)\u001B[49m\n",
      "File \u001B[0;32m~/helix/code/lightning_bg/src/lightning_bg/evaluate.py:56\u001B[0m, in \u001B[0;36mEvaluator.energy_plot\u001B[0;34m(self, rg, **figkwargs)\u001B[0m\n\u001B[1;32m     54\u001B[0m \u001B[38;5;28;01mif\u001B[39;00m rg \u001B[38;5;129;01mis\u001B[39;00m \u001B[38;5;28;01mNone\u001B[39;00m:\n\u001B[1;32m     55\u001B[0m     rg \u001B[38;5;241m=\u001B[39m [\u001B[38;5;241m-\u001B[39m\u001B[38;5;241m50\u001B[39m, \u001B[38;5;241m100\u001B[39m]\n\u001B[0;32m---> 56\u001B[0m \u001B[38;5;28;01mreturn\u001B[39;00m \u001B[43menergy_plot\u001B[49m\u001B[43m(\u001B[49m\u001B[38;5;28;43mself\u001B[39;49m\u001B[38;5;241;43m.\u001B[39;49m\u001B[43mval_data\u001B[49m\u001B[43m,\u001B[49m\u001B[43m \u001B[49m\u001B[38;5;28;43mself\u001B[39;49m\u001B[38;5;241;43m.\u001B[39;49m\u001B[43msystem\u001B[49m\u001B[38;5;241;43m.\u001B[39;49m\u001B[43menergy_model\u001B[49m\u001B[38;5;241;43m.\u001B[39;49m\u001B[43menergy\u001B[49m\u001B[43m,\u001B[49m\u001B[43m \u001B[49m\u001B[38;5;28;43mself\u001B[39;49m\u001B[38;5;241;43m.\u001B[39;49m\u001B[43minn\u001B[49m\u001B[43m,\u001B[49m\u001B[43m \u001B[49m\u001B[38;5;28;43mself\u001B[39;49m\u001B[38;5;241;43m.\u001B[39;49m\u001B[43mq\u001B[49m\u001B[43m,\u001B[49m\u001B[43m \u001B[49m\u001B[43mrg\u001B[49m\u001B[43m,\u001B[49m\n\u001B[1;32m     57\u001B[0m \u001B[43m                   \u001B[49m\u001B[38;5;241;43m*\u001B[39;49m\u001B[38;5;241;43m*\u001B[39;49m\u001B[43mfigkwargs\u001B[49m\u001B[43m)\u001B[49m\n",
      "File \u001B[0;32m~/helix/code/lightning_bg/src/lightning_bg/evaluate.py:89\u001B[0m, in \u001B[0;36menergy_plot\u001B[0;34m(val_dataset, energy_function, INN, latent_target_distribution, rg, **figkwargs)\u001B[0m\n\u001B[1;32m     87\u001B[0m z \u001B[38;5;241m=\u001B[39m latent_target_distribution\u001B[38;5;241m.\u001B[39msample((n_samples,))\n\u001B[1;32m     88\u001B[0m x \u001B[38;5;241m=\u001B[39m INN(z, rev\u001B[38;5;241m=\u001B[39m\u001B[38;5;28;01mTrue\u001B[39;00m)[\u001B[38;5;241m0\u001B[39m]\n\u001B[0;32m---> 89\u001B[0m energies \u001B[38;5;241m=\u001B[39m \u001B[43menergy_function\u001B[49m\u001B[43m(\u001B[49m\u001B[43mx\u001B[49m\u001B[43m)\u001B[49m\n\u001B[1;32m     90\u001B[0m val_tensor \u001B[38;5;241m=\u001B[39m val_dataset\u001B[38;5;241m.\u001B[39mget_tensor()\n\u001B[1;32m     91\u001B[0m val_energies \u001B[38;5;241m=\u001B[39m energy_function(val_tensor)\n",
      "File \u001B[0;32m~/mambaforge/envs/lightning_bg/lib/python3.10/site-packages/bgflow/distribution/energy/base.py:138\u001B[0m, in \u001B[0;36mEnergy.energy\u001B[0;34m(self, temperature, *xs, **kwargs)\u001B[0m\n\u001B[1;32m    130\u001B[0m     \u001B[38;5;28;01massert\u001B[39;00m x\u001B[38;5;241m.\u001B[39mshape[: \u001B[38;5;241m-\u001B[39m\u001B[38;5;28mlen\u001B[39m(s)] \u001B[38;5;241m==\u001B[39m batch_shape, (\n\u001B[1;32m    131\u001B[0m         \u001B[38;5;124mf\u001B[39m\u001B[38;5;124m\"\u001B[39m\u001B[38;5;124mInconsistent batch shapes.\u001B[39m\u001B[38;5;124m\"\u001B[39m\n\u001B[1;32m    132\u001B[0m         \u001B[38;5;124mf\u001B[39m\u001B[38;5;124m\"\u001B[39m\u001B[38;5;124mInput at index \u001B[39m\u001B[38;5;132;01m{\u001B[39;00mi\u001B[38;5;132;01m}\u001B[39;00m\u001B[38;5;124m has batch shape \u001B[39m\u001B[38;5;132;01m{\u001B[39;00mx\u001B[38;5;241m.\u001B[39mshape[:\u001B[38;5;241m-\u001B[39m\u001B[38;5;28mlen\u001B[39m(s)]\u001B[38;5;132;01m}\u001B[39;00m\u001B[38;5;124m\"\u001B[39m\n\u001B[1;32m    133\u001B[0m         \u001B[38;5;124mf\u001B[39m\u001B[38;5;124m\"\u001B[39m\u001B[38;5;124mhowever input at index 0 has batch shape \u001B[39m\u001B[38;5;132;01m{\u001B[39;00mbatch_shape\u001B[38;5;132;01m}\u001B[39;00m\u001B[38;5;124m.\u001B[39m\u001B[38;5;124m\"\u001B[39m\n\u001B[1;32m    134\u001B[0m     )\n\u001B[1;32m    135\u001B[0m     \u001B[38;5;28;01massert\u001B[39;00m (\n\u001B[1;32m    136\u001B[0m         x\u001B[38;5;241m.\u001B[39mshape[\u001B[38;5;241m-\u001B[39m\u001B[38;5;28mlen\u001B[39m(s) :] \u001B[38;5;241m==\u001B[39m s\n\u001B[1;32m    137\u001B[0m     ), \u001B[38;5;124mf\u001B[39m\u001B[38;5;124m\"\u001B[39m\u001B[38;5;124mInput at index \u001B[39m\u001B[38;5;132;01m{\u001B[39;00mi\u001B[38;5;132;01m}\u001B[39;00m\u001B[38;5;124m as wrong shape \u001B[39m\u001B[38;5;132;01m{\u001B[39;00mx\u001B[38;5;241m.\u001B[39mshape[\u001B[38;5;241m-\u001B[39m\u001B[38;5;28mlen\u001B[39m(s):]\u001B[38;5;132;01m}\u001B[39;00m\u001B[38;5;124m instead of \u001B[39m\u001B[38;5;132;01m{\u001B[39;00ms\u001B[38;5;132;01m}\u001B[39;00m\u001B[38;5;124m\"\u001B[39m\n\u001B[0;32m--> 138\u001B[0m \u001B[38;5;28;01mreturn\u001B[39;00m \u001B[38;5;28;43mself\u001B[39;49m\u001B[38;5;241;43m.\u001B[39;49m\u001B[43m_energy\u001B[49m\u001B[43m(\u001B[49m\u001B[38;5;241;43m*\u001B[39;49m\u001B[43mxs\u001B[49m\u001B[43m,\u001B[49m\u001B[43m \u001B[49m\u001B[38;5;241;43m*\u001B[39;49m\u001B[38;5;241;43m*\u001B[39;49m\u001B[43mkwargs\u001B[49m\u001B[43m)\u001B[49m \u001B[38;5;241m/\u001B[39m temperature\n",
      "File \u001B[0;32m~/mambaforge/envs/lightning_bg/lib/python3.10/site-packages/bgflow/distribution/energy/base.py:315\u001B[0m, in \u001B[0;36m_BridgeEnergy._energy\u001B[0;34m(self, batch, no_grads)\u001B[0m\n\u001B[1;32m    313\u001B[0m \u001B[38;5;28;01melse\u001B[39;00m:\n\u001B[1;32m    314\u001B[0m     \u001B[38;5;28mself\u001B[39m\u001B[38;5;241m.\u001B[39m_last_batch \u001B[38;5;241m=\u001B[39m \u001B[38;5;28mhash\u001B[39m(\u001B[38;5;28mstr\u001B[39m(batch))\n\u001B[0;32m--> 315\u001B[0m     \u001B[38;5;28;01mreturn\u001B[39;00m \u001B[43m_evaluate_bridge_energy\u001B[49m\u001B[43m(\u001B[49m\u001B[43mbatch\u001B[49m\u001B[43m,\u001B[49m\u001B[43m \u001B[49m\u001B[38;5;28;43mself\u001B[39;49m\u001B[38;5;241;43m.\u001B[39;49m\u001B[43m_bridge\u001B[49m\u001B[43m)\u001B[49m\n",
      "File \u001B[0;32m~/mambaforge/envs/lightning_bg/lib/python3.10/site-packages/torch/autograd/function.py:506\u001B[0m, in \u001B[0;36mFunction.apply\u001B[0;34m(cls, *args, **kwargs)\u001B[0m\n\u001B[1;32m    503\u001B[0m \u001B[38;5;28;01mif\u001B[39;00m \u001B[38;5;129;01mnot\u001B[39;00m torch\u001B[38;5;241m.\u001B[39m_C\u001B[38;5;241m.\u001B[39m_are_functorch_transforms_active():\n\u001B[1;32m    504\u001B[0m     \u001B[38;5;66;03m# See NOTE: [functorch vjp and autograd interaction]\u001B[39;00m\n\u001B[1;32m    505\u001B[0m     args \u001B[38;5;241m=\u001B[39m _functorch\u001B[38;5;241m.\u001B[39mutils\u001B[38;5;241m.\u001B[39munwrap_dead_wrappers(args)\n\u001B[0;32m--> 506\u001B[0m     \u001B[38;5;28;01mreturn\u001B[39;00m \u001B[38;5;28;43msuper\u001B[39;49m\u001B[43m(\u001B[49m\u001B[43m)\u001B[49m\u001B[38;5;241;43m.\u001B[39;49m\u001B[43mapply\u001B[49m\u001B[43m(\u001B[49m\u001B[38;5;241;43m*\u001B[39;49m\u001B[43margs\u001B[49m\u001B[43m,\u001B[49m\u001B[43m \u001B[49m\u001B[38;5;241;43m*\u001B[39;49m\u001B[38;5;241;43m*\u001B[39;49m\u001B[43mkwargs\u001B[49m\u001B[43m)\u001B[49m  \u001B[38;5;66;03m# type: ignore[misc]\u001B[39;00m\n\u001B[1;32m    508\u001B[0m \u001B[38;5;28;01mif\u001B[39;00m \u001B[38;5;28mcls\u001B[39m\u001B[38;5;241m.\u001B[39msetup_context \u001B[38;5;241m==\u001B[39m _SingleLevelFunction\u001B[38;5;241m.\u001B[39msetup_context:\n\u001B[1;32m    509\u001B[0m     \u001B[38;5;28;01mraise\u001B[39;00m \u001B[38;5;167;01mRuntimeError\u001B[39;00m(\n\u001B[1;32m    510\u001B[0m         \u001B[38;5;124m'\u001B[39m\u001B[38;5;124mIn order to use an autograd.Function with functorch transforms \u001B[39m\u001B[38;5;124m'\u001B[39m\n\u001B[1;32m    511\u001B[0m         \u001B[38;5;124m'\u001B[39m\u001B[38;5;124m(vmap, grad, jvp, jacrev, ...), it must override the setup_context \u001B[39m\u001B[38;5;124m'\u001B[39m\n\u001B[1;32m    512\u001B[0m         \u001B[38;5;124m'\u001B[39m\u001B[38;5;124mstaticmethod. For more details, please see \u001B[39m\u001B[38;5;124m'\u001B[39m\n\u001B[1;32m    513\u001B[0m         \u001B[38;5;124m'\u001B[39m\u001B[38;5;124mhttps://pytorch.org/docs/master/notes/extending.func.html\u001B[39m\u001B[38;5;124m'\u001B[39m)\n",
      "File \u001B[0;32m~/mambaforge/envs/lightning_bg/lib/python3.10/site-packages/bgflow/distribution/energy/base.py:220\u001B[0m, in \u001B[0;36m_BridgeEnergyWrapper.forward\u001B[0;34m(ctx, input, bridge)\u001B[0m\n\u001B[1;32m    218\u001B[0m \u001B[38;5;129m@staticmethod\u001B[39m\n\u001B[1;32m    219\u001B[0m \u001B[38;5;28;01mdef\u001B[39;00m \u001B[38;5;21mforward\u001B[39m(ctx, \u001B[38;5;28minput\u001B[39m, bridge):\n\u001B[0;32m--> 220\u001B[0m     energy, force, \u001B[38;5;241m*\u001B[39m_ \u001B[38;5;241m=\u001B[39m \u001B[43mbridge\u001B[49m\u001B[38;5;241;43m.\u001B[39;49m\u001B[43mevaluate\u001B[49m\u001B[43m(\u001B[49m\u001B[38;5;28;43minput\u001B[39;49m\u001B[43m)\u001B[49m\n\u001B[1;32m    221\u001B[0m     ctx\u001B[38;5;241m.\u001B[39msave_for_backward(\u001B[38;5;241m-\u001B[39mforce)\n\u001B[1;32m    222\u001B[0m     \u001B[38;5;28;01mreturn\u001B[39;00m energy\n",
      "File \u001B[0;32m~/mambaforge/envs/lightning_bg/lib/python3.10/site-packages/bgflow/distribution/energy/openmm.py:134\u001B[0m, in \u001B[0;36mOpenMMBridge.evaluate\u001B[0;34m(self, batch, evaluate_force, evaluate_energy, evaluate_positions, evaluate_path_probability_ratio)\u001B[0m\n\u001B[1;32m    132\u001B[0m \u001B[38;5;66;03m# reshape to (B, N, D)\u001B[39;00m\n\u001B[1;32m    133\u001B[0m batch_array \u001B[38;5;241m=\u001B[39m batch_array\u001B[38;5;241m.\u001B[39mreshape(batch\u001B[38;5;241m.\u001B[39mshape[\u001B[38;5;241m0\u001B[39m], \u001B[38;5;241m-\u001B[39m\u001B[38;5;241m1\u001B[39m, \u001B[38;5;28mself\u001B[39m\u001B[38;5;241m.\u001B[39m_SPATIAL_DIM)\n\u001B[0;32m--> 134\u001B[0m energies, forces, new_positions, log_path_probability_ratio \u001B[38;5;241m=\u001B[39m \u001B[38;5;28;43mself\u001B[39;49m\u001B[38;5;241;43m.\u001B[39;49m\u001B[43mcontext_wrapper\u001B[49m\u001B[38;5;241;43m.\u001B[39;49m\u001B[43mevaluate\u001B[49m\u001B[43m(\u001B[49m\n\u001B[1;32m    135\u001B[0m \u001B[43m    \u001B[49m\u001B[43mbatch_array\u001B[49m\u001B[43m,\u001B[49m\n\u001B[1;32m    136\u001B[0m \u001B[43m    \u001B[49m\u001B[43mevaluate_energy\u001B[49m\u001B[38;5;241;43m=\u001B[39;49m\u001B[43mevaluate_energy\u001B[49m\u001B[43m,\u001B[49m\n\u001B[1;32m    137\u001B[0m \u001B[43m    \u001B[49m\u001B[43mevaluate_force\u001B[49m\u001B[38;5;241;43m=\u001B[39;49m\u001B[43mevaluate_force\u001B[49m\u001B[43m,\u001B[49m\n\u001B[1;32m    138\u001B[0m \u001B[43m    \u001B[49m\u001B[43mevaluate_positions\u001B[49m\u001B[38;5;241;43m=\u001B[39;49m\u001B[43mevaluate_positions\u001B[49m\u001B[43m,\u001B[49m\n\u001B[1;32m    139\u001B[0m \u001B[43m    \u001B[49m\u001B[43mevaluate_path_probability_ratio\u001B[49m\u001B[38;5;241;43m=\u001B[39;49m\u001B[43mevaluate_path_probability_ratio\u001B[49m\u001B[43m,\u001B[49m\n\u001B[1;32m    140\u001B[0m \u001B[43m    \u001B[49m\u001B[43merr_handling\u001B[49m\u001B[38;5;241;43m=\u001B[39;49m\u001B[38;5;28;43mself\u001B[39;49m\u001B[38;5;241;43m.\u001B[39;49m\u001B[43m_err_handling\u001B[49m\u001B[43m,\u001B[49m\n\u001B[1;32m    141\u001B[0m \u001B[43m    \u001B[49m\u001B[43mn_simulation_steps\u001B[49m\u001B[38;5;241;43m=\u001B[39;49m\u001B[38;5;28;43mself\u001B[39;49m\u001B[38;5;241;43m.\u001B[39;49m\u001B[43m_n_simulation_steps\u001B[49m\n\u001B[1;32m    142\u001B[0m \u001B[43m\u001B[49m\u001B[43m)\u001B[49m\n\u001B[1;32m    144\u001B[0m \u001B[38;5;66;03m# divide by kT\u001B[39;00m\n\u001B[1;32m    145\u001B[0m energies \u001B[38;5;241m=\u001B[39m \u001B[38;5;28mself\u001B[39m\u001B[38;5;241m.\u001B[39m_reduce_units(energies)\n",
      "File \u001B[0;32m~/mambaforge/envs/lightning_bg/lib/python3.10/site-packages/bgflow/distribution/energy/openmm.py:499\u001B[0m, in \u001B[0;36mSingleContext.evaluate\u001B[0;34m(self, positions, box_vectors, evaluate_energy, evaluate_force, evaluate_positions, evaluate_path_probability_ratio, err_handling, n_simulation_steps)\u001B[0m\n\u001B[1;32m    493\u001B[0m \u001B[38;5;66;03m# compute energy and forces\u001B[39;00m\n\u001B[1;32m    494\u001B[0m state \u001B[38;5;241m=\u001B[39m \u001B[38;5;28mself\u001B[39m\u001B[38;5;241m.\u001B[39m_openmm_context\u001B[38;5;241m.\u001B[39mgetState(\n\u001B[1;32m    495\u001B[0m     getEnergy\u001B[38;5;241m=\u001B[39mevaluate_energy,\n\u001B[1;32m    496\u001B[0m     getForces\u001B[38;5;241m=\u001B[39mevaluate_force,\n\u001B[1;32m    497\u001B[0m     getPositions\u001B[38;5;241m=\u001B[39mevaluate_positions\n\u001B[1;32m    498\u001B[0m )\n\u001B[0;32m--> 499\u001B[0m energy \u001B[38;5;241m=\u001B[39m \u001B[43mstate\u001B[49m\u001B[38;5;241;43m.\u001B[39;49m\u001B[43mgetPotentialEnergy\u001B[49m\u001B[43m(\u001B[49m\u001B[43m)\u001B[49m\u001B[38;5;241;43m.\u001B[39;49m\u001B[43mvalue_in_unit\u001B[49m\u001B[43m(\u001B[49m\u001B[43munit\u001B[49m\u001B[38;5;241;43m.\u001B[39;49m\u001B[43mkilojoule_per_mole\u001B[49m\u001B[43m)\u001B[49m \u001B[38;5;28;01mif\u001B[39;00m evaluate_energy \u001B[38;5;28;01melse\u001B[39;00m \u001B[38;5;28;01mNone\u001B[39;00m\n\u001B[1;32m    500\u001B[0m force \u001B[38;5;241m=\u001B[39m (\n\u001B[1;32m    501\u001B[0m     state\u001B[38;5;241m.\u001B[39mgetForces(asNumpy\u001B[38;5;241m=\u001B[39m\u001B[38;5;28;01mTrue\u001B[39;00m)\u001B[38;5;241m.\u001B[39mvalue_in_unit(unit\u001B[38;5;241m.\u001B[39mkilojoule_per_mole \u001B[38;5;241m/\u001B[39m unit\u001B[38;5;241m.\u001B[39mnanometer)\n\u001B[1;32m    502\u001B[0m     \u001B[38;5;28;01mif\u001B[39;00m evaluate_force \u001B[38;5;28;01melse\u001B[39;00m \u001B[38;5;28;01mNone\u001B[39;00m\n\u001B[1;32m    503\u001B[0m )\n\u001B[1;32m    504\u001B[0m new_pos \u001B[38;5;241m=\u001B[39m state\u001B[38;5;241m.\u001B[39mgetPositions()\u001B[38;5;241m.\u001B[39mvalue_in_unit(unit\u001B[38;5;241m.\u001B[39mnanometers) \u001B[38;5;28;01mif\u001B[39;00m evaluate_positions \u001B[38;5;28;01melse\u001B[39;00m \u001B[38;5;28;01mNone\u001B[39;00m\n",
      "File \u001B[0;32m~/mambaforge/envs/lightning_bg/lib/python3.10/site-packages/openmm/unit/quantity.py:623\u001B[0m, in \u001B[0;36mQuantity.value_in_unit\u001B[0;34m(self, unit)\u001B[0m\n\u001B[1;32m    619\u001B[0m \u001B[38;5;28;01mdef\u001B[39;00m \u001B[38;5;21mvalue_in_unit\u001B[39m(\u001B[38;5;28mself\u001B[39m, unit):\n\u001B[1;32m    620\u001B[0m \u001B[38;5;250m    \u001B[39m\u001B[38;5;124;03m\"\"\"\u001B[39;00m\n\u001B[1;32m    621\u001B[0m \u001B[38;5;124;03m    Returns underlying value, in the specified units.\u001B[39;00m\n\u001B[1;32m    622\u001B[0m \u001B[38;5;124;03m    \"\"\"\u001B[39;00m\n\u001B[0;32m--> 623\u001B[0m     val \u001B[38;5;241m=\u001B[39m \u001B[38;5;28;43mself\u001B[39;49m\u001B[38;5;241;43m.\u001B[39;49m\u001B[43min_units_of\u001B[49m\u001B[43m(\u001B[49m\u001B[43munit\u001B[49m\u001B[43m)\u001B[49m\n\u001B[1;32m    624\u001B[0m     \u001B[38;5;28;01mif\u001B[39;00m is_quantity(val):\n\u001B[1;32m    625\u001B[0m         \u001B[38;5;28;01mreturn\u001B[39;00m val\u001B[38;5;241m.\u001B[39m_value\n",
      "File \u001B[0;32m~/mambaforge/envs/lightning_bg/lib/python3.10/site-packages/openmm/unit/quantity.py:661\u001B[0m, in \u001B[0;36mQuantity.in_units_of\u001B[0;34m(self, other_unit)\u001B[0m\n\u001B[1;32m    659\u001B[0m     \u001B[38;5;28;01mraise\u001B[39;00m \u001B[38;5;167;01mTypeError\u001B[39;00m(\u001B[38;5;124m'\u001B[39m\u001B[38;5;124mUnit \u001B[39m\u001B[38;5;124m\"\u001B[39m\u001B[38;5;132;01m%s\u001B[39;00m\u001B[38;5;124m\"\u001B[39m\u001B[38;5;124m is not compatible with Unit \u001B[39m\u001B[38;5;124m\"\u001B[39m\u001B[38;5;132;01m%s\u001B[39;00m\u001B[38;5;124m\"\u001B[39m\u001B[38;5;124m.\u001B[39m\u001B[38;5;124m'\u001B[39m \u001B[38;5;241m%\u001B[39m (\u001B[38;5;28mself\u001B[39m\u001B[38;5;241m.\u001B[39munit, other_unit))\n\u001B[1;32m    660\u001B[0m f \u001B[38;5;241m=\u001B[39m \u001B[38;5;28mself\u001B[39m\u001B[38;5;241m.\u001B[39munit\u001B[38;5;241m.\u001B[39mconversion_factor_to(other_unit)\n\u001B[0;32m--> 661\u001B[0m \u001B[38;5;28;01mreturn\u001B[39;00m \u001B[38;5;28;43mself\u001B[39;49m\u001B[38;5;241;43m.\u001B[39;49m\u001B[43m_change_units_with_factor\u001B[49m\u001B[43m(\u001B[49m\u001B[43mother_unit\u001B[49m\u001B[43m,\u001B[49m\u001B[43m \u001B[49m\u001B[43mf\u001B[49m\u001B[43m)\u001B[49m\n",
      "File \u001B[0;32m~/mambaforge/envs/lightning_bg/lib/python3.10/site-packages/openmm/unit/quantity.py:685\u001B[0m, in \u001B[0;36mQuantity._change_units_with_factor\u001B[0;34m(self, new_unit, factor, post_multiply)\u001B[0m\n\u001B[1;32m    683\u001B[0m         value \u001B[38;5;241m=\u001B[39m copy\u001B[38;5;241m.\u001B[39mdeepcopy(\u001B[38;5;28mself\u001B[39m\u001B[38;5;241m.\u001B[39m_value)\n\u001B[1;32m    684\u001B[0m         result \u001B[38;5;241m=\u001B[39m Quantity(\u001B[38;5;28mself\u001B[39m\u001B[38;5;241m.\u001B[39m_scale_sequence(value, factor, post_multiply), new_unit)\n\u001B[0;32m--> 685\u001B[0m \u001B[38;5;28;01mif\u001B[39;00m (\u001B[43mnew_unit\u001B[49m\u001B[38;5;241;43m.\u001B[39;49m\u001B[43mis_dimensionless\u001B[49m\u001B[43m(\u001B[49m\u001B[43m)\u001B[49m):\n\u001B[1;32m    686\u001B[0m     \u001B[38;5;28;01mreturn\u001B[39;00m result\u001B[38;5;241m.\u001B[39m_value\n\u001B[1;32m    687\u001B[0m \u001B[38;5;28;01melse\u001B[39;00m:\n",
      "File \u001B[0;32m~/mambaforge/envs/lightning_bg/lib/python3.10/site-packages/openmm/unit/unit.py:338\u001B[0m, in \u001B[0;36mUnit.is_dimensionless\u001B[0;34m(self)\u001B[0m\n\u001B[1;32m    334\u001B[0m     \u001B[38;5;28;01mreturn\u001B[39;00m result\n\u001B[1;32m    336\u001B[0m _is_dimensionless_cache \u001B[38;5;241m=\u001B[39m {}\n\u001B[0;32m--> 338\u001B[0m \u001B[38;5;28;01mdef\u001B[39;00m \u001B[38;5;21mis_dimensionless\u001B[39m(\u001B[38;5;28mself\u001B[39m):\n\u001B[1;32m    339\u001B[0m \u001B[38;5;250m    \u001B[39m\u001B[38;5;124;03m\"\"\"Returns True if this Unit has no dimensions.\u001B[39;00m\n\u001B[1;32m    340\u001B[0m \u001B[38;5;124;03m    Returns False otherwise.\u001B[39;00m\n\u001B[1;32m    341\u001B[0m \u001B[38;5;124;03m    \"\"\"\u001B[39;00m\n\u001B[1;32m    342\u001B[0m     \u001B[38;5;28;01mif\u001B[39;00m \u001B[38;5;28mself\u001B[39m \u001B[38;5;129;01min\u001B[39;00m Unit\u001B[38;5;241m.\u001B[39m_is_dimensionless_cache:\n",
      "\u001B[0;31mKeyboardInterrupt\u001B[0m: "
     ]
    }
   ],
   "source": [
    "E = Evaluator(model, system)\n",
    "E.energy_plot(rg=[-2000, 2000])"
   ]
  },
  {
   "cell_type": "code",
   "execution_count": 31,
   "id": "69e7f35e-d2ef-4d68-a3ae-9bac380dd879",
   "metadata": {
    "ExecuteTime": {
     "end_time": "2023-11-16T15:50:29.655834929Z",
     "start_time": "2023-11-16T15:50:29.534157669Z"
    }
   },
   "outputs": [
    {
     "data": {
      "text/plain": "tensor([[1.2727e+09],\n        [1.3841e+07],\n        [9.6622e+08],\n        [7.3186e+08],\n        [5.0869e+09],\n        [2.5424e+09],\n        [1.5464e+09],\n        [1.3841e+07],\n        [2.3681e+08],\n        [2.0037e+08],\n        [2.2021e+08],\n        [2.7355e+08],\n        [1.0900e+09],\n        [4.3428e+06],\n        [1.3553e+10],\n        [6.3093e+08],\n        [8.6662e+08],\n        [2.4480e+08],\n        [4.0838e+07],\n        [7.2236e+08],\n        [9.3676e+09],\n        [2.0408e+09],\n        [2.8140e+09],\n        [2.2422e+07],\n        [4.4661e+08],\n        [3.8149e+06],\n        [1.0776e+08],\n        [3.3178e+07],\n        [2.0173e+10],\n        [3.2151e+08],\n        [8.1632e+06],\n        [2.7661e+08],\n        [1.0834e+10],\n        [1.2778e+09],\n        [3.0674e+10],\n        [1.9075e+09],\n        [7.0283e+09],\n        [6.7176e+06],\n        [7.5090e+08],\n        [2.1132e+09],\n        [4.9134e+09],\n        [3.3949e+10],\n        [7.4719e+08],\n        [1.7846e+07],\n        [6.3202e+08],\n        [2.2453e+08],\n        [4.4446e+08],\n        [8.2138e+08],\n        [7.9302e+07],\n        [9.8093e+07],\n        [3.5477e+07],\n        [3.1486e+08],\n        [3.0685e+06],\n        [3.3070e+07],\n        [7.9456e+06],\n        [5.7871e+07],\n        [5.0497e+08],\n        [6.8206e+07],\n        [8.1428e+08],\n        [2.2858e+08],\n        [6.9343e+08],\n        [2.0703e+09],\n        [1.5139e+09],\n        [9.3288e+09],\n        [2.7571e+08],\n        [3.3577e+06],\n        [2.1871e+08],\n        [3.8529e+05],\n        [2.9526e+07],\n        [3.0296e+07],\n        [5.6610e+05],\n        [1.5703e+09],\n        [7.9191e+06],\n        [1.9527e+07],\n        [4.7505e+08],\n        [2.6074e+08],\n        [4.6974e+09],\n        [1.6418e+08],\n        [3.7495e+08],\n        [2.2153e+07],\n        [5.8219e+06],\n        [3.8493e+10],\n        [1.2827e+09],\n        [9.5821e+07],\n        [7.0862e+09],\n        [1.3448e+07],\n        [6.6767e+08],\n        [7.9481e+07],\n        [3.8618e+07],\n        [3.4861e+07],\n        [5.6364e+08],\n        [2.0775e+08],\n        [1.5249e+10],\n        [1.0959e+07],\n        [1.9932e+09],\n        [4.3281e+07],\n        [1.4283e+07],\n        [1.2166e+07],\n        [2.6578e+10],\n        [5.3898e+09]], device='cuda:0')"
     },
     "execution_count": 31,
     "metadata": {},
     "output_type": "execute_result"
    }
   ],
   "source": [
    "system.energy_model.energy(x)"
   ]
  }
 ],
 "metadata": {
  "kernelspec": {
   "display_name": "Python 3 (ipykernel)",
   "language": "python",
   "name": "python3"
  },
  "language_info": {
   "codemirror_mode": {
    "name": "ipython",
    "version": 3
   },
   "file_extension": ".py",
   "mimetype": "text/x-python",
   "name": "python",
   "nbconvert_exporter": "python",
   "pygments_lexer": "ipython3",
   "version": "3.10.9"
  }
 },
 "nbformat": 4,
 "nbformat_minor": 5
}
