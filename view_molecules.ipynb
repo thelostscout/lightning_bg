{
 "cells": [
  {
   "cell_type": "code",
   "execution_count": 8,
   "id": "initial_id",
   "metadata": {
    "ExecuteTime": {
     "end_time": "2023-10-23T16:42:42.406725490Z",
     "start_time": "2023-10-23T16:42:42.343256103Z"
    }
   },
   "outputs": [],
   "source": [
    "from src.lightning_bg.evaluate import Evaluator, ShowTraj\n",
    "from src.lightning_bg.architectures import get_network_by_name, BaseHParams\n",
    "from src.lightning_bg.utils import dataset_setter\n",
    "import os\n",
    "import bgmol\n",
    "from bgmol.systems.peptide import peptide\n",
    "import yaml\n",
    "import mdtraj"
   ]
  },
  {
   "cell_type": "code",
   "execution_count": 2,
   "id": "db5140da3bbae005",
   "metadata": {
    "ExecuteTime": {
     "end_time": "2023-10-23T16:42:42.407195380Z",
     "start_time": "2023-10-23T16:42:42.385510735Z"
    },
    "collapsed": false,
    "jupyter": {
     "outputs_hidden": false
    }
   },
   "outputs": [],
   "source": [
    "data_path = \"./data\"\n",
    "param_path = \"./params\"\n",
    "molecule = \"/OppA/Peptides/1b4z/\" # change this for different molecule \n",
    "experiment_name = \"RNVPfwkl20000.yaml\" # change this for different experiment\n",
    "version = 0 # change this for different version"
   ]
  },
  {
   "cell_type": "code",
   "execution_count": 3,
   "id": "234edfdbfa877af0",
   "metadata": {
    "ExecuteTime": {
     "end_time": "2023-10-23T16:42:42.407872718Z",
     "start_time": "2023-10-23T16:42:42.385875077Z"
    },
    "collapsed": false,
    "jupyter": {
     "outputs_hidden": false
    }
   },
   "outputs": [
    {
     "data": {
      "text/plain": [
       "'./data/Molecules/OppA/Peptides/1b4z/'"
      ]
     },
     "execution_count": 3,
     "metadata": {},
     "output_type": "execute_result"
    }
   ],
   "source": [
    "molecule_path = os.path.join(data_path, \"Molecules\", molecule.lstrip(\"/\"))\n",
    "molecule_path"
   ]
  },
  {
   "cell_type": "code",
   "execution_count": 4,
   "id": "c4bc242b190a9100",
   "metadata": {
    "ExecuteTime": {
     "end_time": "2023-10-23T16:42:42.544957612Z",
     "start_time": "2023-10-23T16:42:42.394664597Z"
    },
    "collapsed": false,
    "jupyter": {
     "outputs_hidden": false
    }
   },
   "outputs": [
    {
     "name": "stdout",
     "output_type": "stream",
     "text": [
      "59 3\n"
     ]
    }
   ],
   "source": [
    "if \"Dialanine\" in \"molecule\":\n",
    "    is_data_here = os.path.exists(molecule_path + \"/Ala2TSF300.npy\")\n",
    "    ala_data = bgmol.datasets.Ala2TSF300(download=not is_data_here, read=True, root=molecule_path)\n",
    "    system = ala_data.system\n",
    "else:\n",
    "    with open(molecule_path.rstrip(\"/\") + \"/top.pdb\", 'r') as file:\n",
    "        lines = file.readlines()\n",
    "        lastline = lines[-3]\n",
    "        n_atoms = int(lastline[4:11].strip())\n",
    "        n_res = int(lastline[22:26].strip())\n",
    "        print(n_atoms, n_res)\n",
    "\n",
    "    # define system & energy model\n",
    "    system = peptide(short=False, n_atoms=n_atoms, n_res=n_res, filepath=molecule_path)"
   ]
  },
  {
   "cell_type": "code",
   "execution_count": 9,
   "id": "64c776aa356b941a",
   "metadata": {
    "ExecuteTime": {
     "end_time": "2023-10-23T16:46:54.728148712Z",
     "start_time": "2023-10-23T16:46:51.435268575Z"
    },
    "collapsed": false,
    "jupyter": {
     "outputs_hidden": false
    }
   },
   "outputs": [
    {
     "name": "stderr",
     "output_type": "stream",
     "text": [
      "/home/kortkamp/mambaforge/envs/lightning_bg/lib/python3.10/site-packages/pandas/core/computation/expressions.py:21: UserWarning: Pandas requires version '2.8.0' or newer of 'numexpr' (version '2.7.3' currently installed).\n",
      "  from pandas.core.computation.check import NUMEXPR_INSTALLED\n"
     ]
    }
   ],
   "source": [
    "experiment_path = os.path.join(param_path, molecule.lstrip(\"/\"), experiment_name)\n",
    "with open(experiment_path) as f:  # TODO: this is stupid bc there is a hparams file in the version folder. use it instead!!\n",
    "    params = yaml.load(f, yaml.FullLoader)  # load the parameters\n",
    "ModelClass = get_network_by_name(params['network_name'])\n",
    "ParamClass = BaseHParams\n",
    "params['network_params']['n_dims'] = n_atoms * 3\n",
    "hparams = ParamClass(**params['network_params'])\n",
    "checkpoint = os.path.join(data_path, \"lightning_logs\", molecule.lstrip(\"/\"), experiment_name[:-5], f\"version_{version}\", \"checkpoints/last.ckpt\")\n",
    "# checkpoint = \"/home/kortkamp/helix/code/lightning_bg/data/lightning_logs/OppA/Peptides/1b4z/params/OppA/1b4z/RNVPfwkl20000/version_0/checkpoints/last.ckpt\"\n",
    "\n",
    "traj = mdtraj.load_hdf5(molecule_path + \"/traj.h5\")\n",
    "coordinates = traj.xyz\n",
    "train_split = params['training_params']['train_split']\n",
    "train_data, val_data, test_data = dataset_setter(coordinates, system, val_split=(.8 - train_split), test_split=.2, seed=42)\n",
    "\n",
    "model = ModelClass.load_from_checkpoint(checkpoint, hparams=hparams, train_data=train_data, val_data=val_data)"
   ]
  },
  {
   "cell_type": "code",
   "execution_count": 13,
   "id": "af12fe0f6d15e719",
   "metadata": {
    "ExecuteTime": {
     "end_time": "2023-10-23T16:48:11.687652844Z",
     "start_time": "2023-10-23T16:48:11.356014118Z"
    },
    "collapsed": false,
    "jupyter": {
     "outputs_hidden": false
    }
   },
   "outputs": [],
   "source": [
    "x = model.generate_samples((100,))\n",
    "w = ShowTraj(x, system)"
   ]
  },
  {
   "cell_type": "code",
   "execution_count": 14,
   "id": "c2ded6da6ba6282a",
   "metadata": {
    "ExecuteTime": {
     "end_time": "2023-10-23T16:48:20.184337693Z",
     "start_time": "2023-10-23T16:48:20.178970939Z"
    },
    "collapsed": false,
    "jupyter": {
     "outputs_hidden": false
    }
   },
   "outputs": [
    {
     "data": {
      "application/vnd.jupyter.widget-view+json": {
       "model_id": "af2622d320e848a3be6aca6088c13308",
       "version_major": 2,
       "version_minor": 0
      },
      "text/plain": [
       "ShowTraj(children=(NGLWidget(max_frame=99), BoundedFloatText(value=3611.93, description='Energy:', max=1e+50, …"
      ]
     },
     "execution_count": 14,
     "metadata": {},
     "output_type": "execute_result"
    }
   ],
   "source": [
    "w"
   ]
  },
  {
   "cell_type": "code",
   "execution_count": 19,
   "id": "4a5bf889-42bc-49af-9064-7d32c3b53d8c",
   "metadata": {},
   "outputs": [
    {
     "data": {
      "text/plain": [
       "(<Figure size 640x480 with 1 Axes>,\n",
       " <AxesSubplot:xlabel='Energy [$k_B T$]', ylabel='# samples'>)"
      ]
     },
     "execution_count": 19,
     "metadata": {},
     "output_type": "execute_result"
    },
    {
     "data": {
      "image/png": "[encoded data removed]",
      "text/plain": [
       "<Figure size 640x480 with 1 Axes>"
      ]
     },
     "metadata": {},
     "output_type": "display_data"
    }
   ],
   "source": [
    "E = Evaluator(model, system)\n",
    "E.energy_plot(rg=[-600, 4000])"
   ]
  }
 ],
 "metadata": {
  "kernelspec": {
   "display_name": "Python 3 (ipykernel)",
   "language": "python",
   "name": "python3"
  },
  "language_info": {
   "codemirror_mode": {
    "name": "ipython",
    "version": 3
   },
   "file_extension": ".py",
   "mimetype": "text/x-python",
   "name": "python",
   "nbconvert_exporter": "python",
   "pygments_lexer": "ipython3",
   "version": "3.10.9"
  }
 },
 "nbformat": 4,
 "nbformat_minor": 5
}
