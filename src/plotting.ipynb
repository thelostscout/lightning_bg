{
 "cells": [
  {
   "cell_type": "code",
   "execution_count": 5,
   "id": "initial_id",
   "metadata": {
    "ExecuteTime": {
     "end_time": "2023-12-01T11:36:16.163706436Z",
     "start_time": "2023-12-01T11:36:16.061767275Z"
    }
   },
   "outputs": [],
   "source": [
    "import matplotlib.pyplot as plt\n",
    "\n",
    "from lightning_bg.utils import load_data, dataset_setter, load_model_kwargs\n",
    "from lightning_bg.models import get_network_by_name\n",
    "import torch\n",
    "import numpy as np\n",
    "\n",
    "from lightning_bg.evaluate import ShowTraj\n",
    "\n",
    "def load_from_checkpoint(checkpoint_path, data_path, model_class):\n",
    "    coordinates, system = load_data(data_path)\n",
    "    train_split = .7\n",
    "    train_data, val_data, test_data = dataset_setter(coordinates, system, val_split=(.8 - train_split),\n",
    "                                                     test_split=.2, seed=42)\n",
    "    ModelClass = get_network_by_name(model_class)\n",
    "    ParamClass = ModelClass.hparams_type\n",
    "    hparams = torch.load(checkpoint_path.rstrip(\"/\") + \"/checkpoints/last.ckpt\")['hyper_parameters']\n",
    "    model_kwargs = load_model_kwargs(ModelClass, train_data, val_data, system)\n",
    "    model = ModelClass.load_from_checkpoint(checkpoint_path.rstrip(\"/\") + \"/checkpoints/last.ckpt\",\n",
    "                                            hparams=hparams,\n",
    "                                            **model_kwargs\n",
    "                                            )\n",
    "    return model, test_data, system"
   ]
  },
  {
   "cell_type": "code",
   "execution_count": 6,
   "id": "da4c1d08f9a98f41",
   "metadata": {
    "collapsed": false,
    "ExecuteTime": {
     "end_time": "2023-12-01T11:37:18.051178031Z",
     "start_time": "2023-12-01T11:36:16.415942920Z"
    }
   },
   "outputs": [
    {
     "name": "stderr",
     "output_type": "stream",
     "text": [
      "/home/kortkamp/BG/modules/bgmol/bgmol/zmatrix.py:317: UserWarning: Z-matrix torsions are not fully independent because of a constraint on HA.\n",
      "  warnings.warn(\"Z-matrix torsions are not fully independent because of a constraint on HA.\")\n"
     ]
    }
   ],
   "source": [
    "model_1b4z_RNVPICfwkl, test_1b4z, system_1b4z = load_from_checkpoint(\"../data/lightning_logs/OppA/Peptides/1b4z/RNVPICfwkl/version_8\", \"../data/Molecules/OppA/Peptides/1b4z\", \"RNVPICfwkl\")\n",
    "# model_1b4z_RNVPICfwkl2, _, _ = load_from_checkpoint(\"../data/lightning_logs/OppA/Peptides/1b4z/RNVPICfwkl/version_1\", \"../data/Molecules/OppA/Peptides/1b4z\", \"RNVPICfwkl\")\n",
    "model_1b4z_RNVPfwkl, _, _ = load_from_checkpoint(\"../data/lightning_logs/OppA/Peptides/1b4z/RNVPfwkl/version_8\", \"../data/Molecules/OppA/Peptides/1b4z\", \"RNVPfwkl\")"
   ]
  },
  {
   "cell_type": "code",
   "execution_count": 12,
   "outputs": [],
   "source": [
    "x = model_1b4z_RNVPfwkl.sample((10,))"
   ],
   "metadata": {
    "collapsed": false,
    "ExecuteTime": {
     "end_time": "2023-12-01T11:42:37.777828444Z",
     "start_time": "2023-12-01T11:42:37.702046709Z"
    }
   },
   "id": "84e6d142eb7d6b4e"
  },
  {
   "cell_type": "code",
   "execution_count": 20,
   "outputs": [],
   "source": [],
   "metadata": {
    "collapsed": false,
    "ExecuteTime": {
     "end_time": "2023-12-01T11:45:17.509968880Z",
     "start_time": "2023-12-01T11:45:17.450891547Z"
    }
   },
   "id": "b1e6ec5b8d1b68e0"
  },
  {
   "cell_type": "code",
   "execution_count": 7,
   "id": "870a92375e608036",
   "metadata": {
    "collapsed": false,
    "ExecuteTime": {
     "end_time": "2023-12-01T11:37:18.655674588Z",
     "start_time": "2023-12-01T11:37:18.091911960Z"
    }
   },
   "outputs": [
    {
     "ename": "RuntimeError",
     "evalue": "Sizes of tensors must match except in dimension 1. Expected size 3 but got size 10000 for tensor number 1 in the list.",
     "output_type": "error",
     "traceback": [
      "\u001B[0;31m---------------------------------------------------------------------------\u001B[0m",
      "\u001B[0;31mRuntimeError\u001B[0m                              Traceback (most recent call last)",
      "Cell \u001B[0;32mIn[7], line 1\u001B[0m\n\u001B[0;32m----> 1\u001B[0m energyIC \u001B[38;5;241m=\u001B[39m system_1b4z\u001B[38;5;241m.\u001B[39menergy_model\u001B[38;5;241m.\u001B[39menergy(\u001B[43mmodel_1b4z_RNVPICfwkl\u001B[49m\u001B[38;5;241;43m.\u001B[39;49m\u001B[43msample\u001B[49m\u001B[43m(\u001B[49m\u001B[43m(\u001B[49m\u001B[38;5;241;43m10_000\u001B[39;49m\u001B[43m,\u001B[49m\u001B[43m)\u001B[49m\u001B[43m)\u001B[49m)\u001B[38;5;241m.\u001B[39mcpu()\u001B[38;5;241m.\u001B[39mdetach()\u001B[38;5;241m.\u001B[39mnumpy()\n\u001B[1;32m      2\u001B[0m \u001B[38;5;66;03m# energyIC2 = system_1b4z.energy_model.energy(model_1b4z_RNVPICfwkl2.sample((10_000,))).cpu().detach().numpy()\u001B[39;00m\n\u001B[1;32m      3\u001B[0m energyCC \u001B[38;5;241m=\u001B[39m system_1b4z\u001B[38;5;241m.\u001B[39menergy_model\u001B[38;5;241m.\u001B[39menergy(model_1b4z_RNVPfwkl\u001B[38;5;241m.\u001B[39msample((\u001B[38;5;241m10_000\u001B[39m,)))\u001B[38;5;241m.\u001B[39mcpu()\u001B[38;5;241m.\u001B[39mdetach()\u001B[38;5;241m.\u001B[39mnumpy()\n",
      "File \u001B[0;32m~/helix/code/lightning_bg/src/lightning_bg/models.py:120\u001B[0m, in \u001B[0;36mBaseTrainable.sample\u001B[0;34m(self, size)\u001B[0m\n\u001B[1;32m    118\u001B[0m \u001B[38;5;28;01mwith\u001B[39;00m torch\u001B[38;5;241m.\u001B[39mno_grad():\n\u001B[1;32m    119\u001B[0m     z \u001B[38;5;241m=\u001B[39m \u001B[38;5;28mself\u001B[39m\u001B[38;5;241m.\u001B[39mq\u001B[38;5;241m.\u001B[39msample(size)\n\u001B[0;32m--> 120\u001B[0m     x \u001B[38;5;241m=\u001B[39m \u001B[38;5;28;43mself\u001B[39;49m\u001B[38;5;241;43m.\u001B[39;49m\u001B[43minn\u001B[49m\u001B[43m(\u001B[49m\u001B[43mz\u001B[49m\u001B[43m,\u001B[49m\u001B[43m \u001B[49m\u001B[43mrev\u001B[49m\u001B[38;5;241;43m=\u001B[39;49m\u001B[38;5;28;43;01mTrue\u001B[39;49;00m\u001B[43m)\u001B[49m[\u001B[38;5;241m0\u001B[39m]\n\u001B[1;32m    121\u001B[0m \u001B[38;5;28;01mreturn\u001B[39;00m x\n",
      "File \u001B[0;32m~/mambaforge/envs/lightning_bg/lib/python3.10/site-packages/torch/nn/modules/module.py:1501\u001B[0m, in \u001B[0;36mModule._call_impl\u001B[0;34m(self, *args, **kwargs)\u001B[0m\n\u001B[1;32m   1496\u001B[0m \u001B[38;5;66;03m# If we don't have any hooks, we want to skip the rest of the logic in\u001B[39;00m\n\u001B[1;32m   1497\u001B[0m \u001B[38;5;66;03m# this function, and just call forward.\u001B[39;00m\n\u001B[1;32m   1498\u001B[0m \u001B[38;5;28;01mif\u001B[39;00m \u001B[38;5;129;01mnot\u001B[39;00m (\u001B[38;5;28mself\u001B[39m\u001B[38;5;241m.\u001B[39m_backward_hooks \u001B[38;5;129;01mor\u001B[39;00m \u001B[38;5;28mself\u001B[39m\u001B[38;5;241m.\u001B[39m_backward_pre_hooks \u001B[38;5;129;01mor\u001B[39;00m \u001B[38;5;28mself\u001B[39m\u001B[38;5;241m.\u001B[39m_forward_hooks \u001B[38;5;129;01mor\u001B[39;00m \u001B[38;5;28mself\u001B[39m\u001B[38;5;241m.\u001B[39m_forward_pre_hooks\n\u001B[1;32m   1499\u001B[0m         \u001B[38;5;129;01mor\u001B[39;00m _global_backward_pre_hooks \u001B[38;5;129;01mor\u001B[39;00m _global_backward_hooks\n\u001B[1;32m   1500\u001B[0m         \u001B[38;5;129;01mor\u001B[39;00m _global_forward_hooks \u001B[38;5;129;01mor\u001B[39;00m _global_forward_pre_hooks):\n\u001B[0;32m-> 1501\u001B[0m     \u001B[38;5;28;01mreturn\u001B[39;00m \u001B[43mforward_call\u001B[49m\u001B[43m(\u001B[49m\u001B[38;5;241;43m*\u001B[39;49m\u001B[43margs\u001B[49m\u001B[43m,\u001B[49m\u001B[43m \u001B[49m\u001B[38;5;241;43m*\u001B[39;49m\u001B[38;5;241;43m*\u001B[39;49m\u001B[43mkwargs\u001B[49m\u001B[43m)\u001B[49m\n\u001B[1;32m   1502\u001B[0m \u001B[38;5;66;03m# Do not call functions when jit is used\u001B[39;00m\n\u001B[1;32m   1503\u001B[0m full_backward_hooks, non_full_backward_hooks \u001B[38;5;241m=\u001B[39m [], []\n",
      "File \u001B[0;32m~/BG/modules/FrEIA/FrEIA/framework/sequence_inn.py:192\u001B[0m, in \u001B[0;36mSequenceINN.forward\u001B[0;34m(self, x_or_z, c, rev, jac)\u001B[0m\n\u001B[1;32m    190\u001B[0m \u001B[38;5;28;01mfor\u001B[39;00m i \u001B[38;5;129;01min\u001B[39;00m iterator:\n\u001B[1;32m    191\u001B[0m     \u001B[38;5;28;01mif\u001B[39;00m \u001B[38;5;28mself\u001B[39m\u001B[38;5;241m.\u001B[39mconditions[i] \u001B[38;5;129;01mis\u001B[39;00m \u001B[38;5;28;01mNone\u001B[39;00m:\n\u001B[0;32m--> 192\u001B[0m         x_or_z, j \u001B[38;5;241m=\u001B[39m \u001B[38;5;28;43mself\u001B[39;49m\u001B[38;5;241;43m.\u001B[39;49m\u001B[43mmodule_list\u001B[49m\u001B[43m[\u001B[49m\u001B[43mi\u001B[49m\u001B[43m]\u001B[49m\u001B[43m(\u001B[49m\u001B[43mx_or_z\u001B[49m\u001B[43m,\u001B[49m\u001B[43m \u001B[49m\u001B[43mjac\u001B[49m\u001B[38;5;241;43m=\u001B[39;49m\u001B[43mjac\u001B[49m\u001B[43m,\u001B[49m\u001B[43m \u001B[49m\u001B[43mrev\u001B[49m\u001B[38;5;241;43m=\u001B[39;49m\u001B[43mrev\u001B[49m\u001B[43m)\u001B[49m\n\u001B[1;32m    193\u001B[0m     \u001B[38;5;28;01melse\u001B[39;00m:\n\u001B[1;32m    194\u001B[0m         x_or_z, j \u001B[38;5;241m=\u001B[39m \u001B[38;5;28mself\u001B[39m\u001B[38;5;241m.\u001B[39mmodule_list[i](x_or_z,\n\u001B[1;32m    195\u001B[0m                                         c\u001B[38;5;241m=\u001B[39m[c[\u001B[38;5;28mself\u001B[39m\u001B[38;5;241m.\u001B[39mconditions[i]]],\n\u001B[1;32m    196\u001B[0m                                         jac\u001B[38;5;241m=\u001B[39mjac, rev\u001B[38;5;241m=\u001B[39mrev)\n",
      "File \u001B[0;32m~/mambaforge/envs/lightning_bg/lib/python3.10/site-packages/torch/nn/modules/module.py:1501\u001B[0m, in \u001B[0;36mModule._call_impl\u001B[0;34m(self, *args, **kwargs)\u001B[0m\n\u001B[1;32m   1496\u001B[0m \u001B[38;5;66;03m# If we don't have any hooks, we want to skip the rest of the logic in\u001B[39;00m\n\u001B[1;32m   1497\u001B[0m \u001B[38;5;66;03m# this function, and just call forward.\u001B[39;00m\n\u001B[1;32m   1498\u001B[0m \u001B[38;5;28;01mif\u001B[39;00m \u001B[38;5;129;01mnot\u001B[39;00m (\u001B[38;5;28mself\u001B[39m\u001B[38;5;241m.\u001B[39m_backward_hooks \u001B[38;5;129;01mor\u001B[39;00m \u001B[38;5;28mself\u001B[39m\u001B[38;5;241m.\u001B[39m_backward_pre_hooks \u001B[38;5;129;01mor\u001B[39;00m \u001B[38;5;28mself\u001B[39m\u001B[38;5;241m.\u001B[39m_forward_hooks \u001B[38;5;129;01mor\u001B[39;00m \u001B[38;5;28mself\u001B[39m\u001B[38;5;241m.\u001B[39m_forward_pre_hooks\n\u001B[1;32m   1499\u001B[0m         \u001B[38;5;129;01mor\u001B[39;00m _global_backward_pre_hooks \u001B[38;5;129;01mor\u001B[39;00m _global_backward_hooks\n\u001B[1;32m   1500\u001B[0m         \u001B[38;5;129;01mor\u001B[39;00m _global_forward_hooks \u001B[38;5;129;01mor\u001B[39;00m _global_forward_pre_hooks):\n\u001B[0;32m-> 1501\u001B[0m     \u001B[38;5;28;01mreturn\u001B[39;00m \u001B[43mforward_call\u001B[49m\u001B[43m(\u001B[49m\u001B[38;5;241;43m*\u001B[39;49m\u001B[43margs\u001B[49m\u001B[43m,\u001B[49m\u001B[43m \u001B[49m\u001B[38;5;241;43m*\u001B[39;49m\u001B[38;5;241;43m*\u001B[39;49m\u001B[43mkwargs\u001B[49m\u001B[43m)\u001B[49m\n\u001B[1;32m   1502\u001B[0m \u001B[38;5;66;03m# Do not call functions when jit is used\u001B[39;00m\n\u001B[1;32m   1503\u001B[0m full_backward_hooks, non_full_backward_hooks \u001B[38;5;241m=\u001B[39m [], []\n",
      "File \u001B[0;32m~/helix/code/lightning_bg/src/lightning_bg/utils.py:173\u001B[0m, in \u001B[0;36mICTransform.forward\u001B[0;34m(self, x_or_z, c, rev, jac)\u001B[0m\n\u001B[1;32m    171\u001B[0m     loc \u001B[38;5;241m=\u001B[39m x_or_z[\u001B[38;5;241m-\u001B[39m\u001B[38;5;241m6\u001B[39m:\u001B[38;5;241m-\u001B[39m\u001B[38;5;241m3\u001B[39m]\u001B[38;5;241m.\u001B[39munsqueeze(\u001B[38;5;241m1\u001B[39m)\n\u001B[1;32m    172\u001B[0m     rot \u001B[38;5;241m=\u001B[39m x_or_z[\u001B[38;5;241m-\u001B[39m\u001B[38;5;241m3\u001B[39m:]\n\u001B[0;32m--> 173\u001B[0m     out, log_jac_det \u001B[38;5;241m=\u001B[39m \u001B[38;5;28;43mself\u001B[39;49m\u001B[38;5;241;43m.\u001B[39;49m\u001B[43mbg_layer\u001B[49m\u001B[38;5;241;43m.\u001B[39;49m\u001B[43m_inverse\u001B[49m\u001B[43m(\u001B[49m\u001B[43mbonds\u001B[49m\u001B[43m,\u001B[49m\u001B[43m \u001B[49m\u001B[43mangles\u001B[49m\u001B[43m,\u001B[49m\u001B[43m \u001B[49m\u001B[43mtorsions\u001B[49m\u001B[43m,\u001B[49m\u001B[43m \u001B[49m\u001B[43mloc\u001B[49m\u001B[43m,\u001B[49m\u001B[43m \u001B[49m\u001B[43mrot\u001B[49m\u001B[43m)\u001B[49m\n\u001B[1;32m    174\u001B[0m \u001B[38;5;28;01mreturn\u001B[39;00m (out,), log_jac_det\u001B[38;5;241m.\u001B[39msqueeze(\u001B[38;5;241m1\u001B[39m)\n",
      "File \u001B[0;32m~/mambaforge/envs/lightning_bg/lib/python3.10/site-packages/bgflow/nn/flow/crd_transform/ic.py:705\u001B[0m, in \u001B[0;36mGlobalInternalCoordinateTransformation._inverse\u001B[0;34m(self, bonds, angles, torsions, x0, R, *args, **kwargs)\u001B[0m\n\u001B[1;32m    702\u001B[0m a012 \u001B[38;5;241m=\u001B[39m angles[:, [\u001B[38;5;241m0\u001B[39m]]\n\u001B[1;32m    704\u001B[0m \u001B[38;5;66;03m# transform reference system back\u001B[39;00m\n\u001B[0;32m--> 705\u001B[0m x0, x1, x2, dlogp_ref \u001B[38;5;241m=\u001B[39m \u001B[38;5;28;43mself\u001B[39;49m\u001B[38;5;241;43m.\u001B[39;49m\u001B[43m_ref_ic\u001B[49m\u001B[43m(\u001B[49m\u001B[43mx0\u001B[49m\u001B[43m,\u001B[49m\u001B[43m \u001B[49m\u001B[43mR\u001B[49m\u001B[43m,\u001B[49m\u001B[43m \u001B[49m\u001B[43md01\u001B[49m\u001B[43m,\u001B[49m\u001B[43m \u001B[49m\u001B[43md12\u001B[49m\u001B[43m,\u001B[49m\u001B[43m \u001B[49m\u001B[43ma012\u001B[49m\u001B[43m,\u001B[49m\u001B[43m \u001B[49m\u001B[43minverse\u001B[49m\u001B[38;5;241;43m=\u001B[39;49m\u001B[38;5;28;43;01mTrue\u001B[39;49;00m\u001B[43m)\u001B[49m\n\u001B[1;32m    706\u001B[0m x_init \u001B[38;5;241m=\u001B[39m torch\u001B[38;5;241m.\u001B[39mcat([x0, x1, x2], dim\u001B[38;5;241m=\u001B[39m\u001B[38;5;241m1\u001B[39m)\n\u001B[1;32m    708\u001B[0m \u001B[38;5;66;03m# now transform relative system wrt reference system back\u001B[39;00m\n",
      "File \u001B[0;32m~/mambaforge/envs/lightning_bg/lib/python3.10/site-packages/torch/nn/modules/module.py:1501\u001B[0m, in \u001B[0;36mModule._call_impl\u001B[0;34m(self, *args, **kwargs)\u001B[0m\n\u001B[1;32m   1496\u001B[0m \u001B[38;5;66;03m# If we don't have any hooks, we want to skip the rest of the logic in\u001B[39;00m\n\u001B[1;32m   1497\u001B[0m \u001B[38;5;66;03m# this function, and just call forward.\u001B[39;00m\n\u001B[1;32m   1498\u001B[0m \u001B[38;5;28;01mif\u001B[39;00m \u001B[38;5;129;01mnot\u001B[39;00m (\u001B[38;5;28mself\u001B[39m\u001B[38;5;241m.\u001B[39m_backward_hooks \u001B[38;5;129;01mor\u001B[39;00m \u001B[38;5;28mself\u001B[39m\u001B[38;5;241m.\u001B[39m_backward_pre_hooks \u001B[38;5;129;01mor\u001B[39;00m \u001B[38;5;28mself\u001B[39m\u001B[38;5;241m.\u001B[39m_forward_hooks \u001B[38;5;129;01mor\u001B[39;00m \u001B[38;5;28mself\u001B[39m\u001B[38;5;241m.\u001B[39m_forward_pre_hooks\n\u001B[1;32m   1499\u001B[0m         \u001B[38;5;129;01mor\u001B[39;00m _global_backward_pre_hooks \u001B[38;5;129;01mor\u001B[39;00m _global_backward_hooks\n\u001B[1;32m   1500\u001B[0m         \u001B[38;5;129;01mor\u001B[39;00m _global_forward_hooks \u001B[38;5;129;01mor\u001B[39;00m _global_forward_pre_hooks):\n\u001B[0;32m-> 1501\u001B[0m     \u001B[38;5;28;01mreturn\u001B[39;00m \u001B[43mforward_call\u001B[49m\u001B[43m(\u001B[49m\u001B[38;5;241;43m*\u001B[39;49m\u001B[43margs\u001B[49m\u001B[43m,\u001B[49m\u001B[43m \u001B[49m\u001B[38;5;241;43m*\u001B[39;49m\u001B[38;5;241;43m*\u001B[39;49m\u001B[43mkwargs\u001B[49m\u001B[43m)\u001B[49m\n\u001B[1;32m   1502\u001B[0m \u001B[38;5;66;03m# Do not call functions when jit is used\u001B[39;00m\n\u001B[1;32m   1503\u001B[0m full_backward_hooks, non_full_backward_hooks \u001B[38;5;241m=\u001B[39m [], []\n",
      "File \u001B[0;32m~/mambaforge/envs/lightning_bg/lib/python3.10/site-packages/bgflow/nn/flow/base.py:31\u001B[0m, in \u001B[0;36mFlow.forward\u001B[0;34m(self, inverse, *xs, **kwargs)\u001B[0m\n\u001B[1;32m     18\u001B[0m \u001B[38;5;250m\u001B[39m\u001B[38;5;124;03m\"\"\"\u001B[39;00m\n\u001B[1;32m     19\u001B[0m \u001B[38;5;124;03mForward method of the flow.\u001B[39;00m\n\u001B[1;32m     20\u001B[0m \u001B[38;5;124;03mComputes the forward or inverse direction of the flow.\u001B[39;00m\n\u001B[0;32m   (...)\u001B[0m\n\u001B[1;32m     28\u001B[0m \u001B[38;5;124;03m    Whether to compute the forward or inverse\u001B[39;00m\n\u001B[1;32m     29\u001B[0m \u001B[38;5;124;03m\"\"\"\u001B[39;00m\n\u001B[1;32m     30\u001B[0m \u001B[38;5;28;01mif\u001B[39;00m inverse:\n\u001B[0;32m---> 31\u001B[0m     \u001B[38;5;28;01mreturn\u001B[39;00m \u001B[38;5;28;43mself\u001B[39;49m\u001B[38;5;241;43m.\u001B[39;49m\u001B[43m_inverse\u001B[49m\u001B[43m(\u001B[49m\u001B[38;5;241;43m*\u001B[39;49m\u001B[43mxs\u001B[49m\u001B[43m,\u001B[49m\u001B[43m \u001B[49m\u001B[38;5;241;43m*\u001B[39;49m\u001B[38;5;241;43m*\u001B[39;49m\u001B[43mkwargs\u001B[49m\u001B[43m)\u001B[49m\n\u001B[1;32m     32\u001B[0m \u001B[38;5;28;01melse\u001B[39;00m:\n\u001B[1;32m     33\u001B[0m     \u001B[38;5;28;01mreturn\u001B[39;00m \u001B[38;5;28mself\u001B[39m\u001B[38;5;241m.\u001B[39m_forward(\u001B[38;5;241m*\u001B[39mxs, \u001B[38;5;241m*\u001B[39m\u001B[38;5;241m*\u001B[39mkwargs)\n",
      "File \u001B[0;32m~/mambaforge/envs/lightning_bg/lib/python3.10/site-packages/bgflow/nn/flow/crd_transform/ic.py:250\u001B[0m, in \u001B[0;36mReferenceSystemTransformation._inverse\u001B[0;34m(self, x0, orientation, d01, d12, a012, *args, **kwargs)\u001B[0m\n\u001B[1;32m    247\u001B[0m     a012, dlogp_a \u001B[38;5;241m=\u001B[39m unnormalize_angles(a012)\n\u001B[1;32m    248\u001B[0m     dlogp \u001B[38;5;241m+\u001B[39m\u001B[38;5;241m=\u001B[39m dlogp_a\n\u001B[0;32m--> 250\u001B[0m x0, x1, x2, dlogp_b \u001B[38;5;241m=\u001B[39m \u001B[43minit_ics2xyz\u001B[49m\u001B[43m(\u001B[49m\n\u001B[1;32m    251\u001B[0m \u001B[43m    \u001B[49m\u001B[43mx0\u001B[49m\u001B[43m,\u001B[49m\n\u001B[1;32m    252\u001B[0m \u001B[43m    \u001B[49m\u001B[43md01\u001B[49m\u001B[43m,\u001B[49m\n\u001B[1;32m    253\u001B[0m \u001B[43m    \u001B[49m\u001B[43md12\u001B[49m\u001B[43m,\u001B[49m\n\u001B[1;32m    254\u001B[0m \u001B[43m    \u001B[49m\u001B[43ma012\u001B[49m\u001B[43m,\u001B[49m\n\u001B[1;32m    255\u001B[0m \u001B[43m    \u001B[49m\u001B[43malpha\u001B[49m\u001B[43m,\u001B[49m\n\u001B[1;32m    256\u001B[0m \u001B[43m    \u001B[49m\u001B[43mbeta\u001B[49m\u001B[43m,\u001B[49m\n\u001B[1;32m    257\u001B[0m \u001B[43m    \u001B[49m\u001B[43mgamma\u001B[49m\u001B[43m,\u001B[49m\n\u001B[1;32m    258\u001B[0m \u001B[43m    \u001B[49m\u001B[43meps\u001B[49m\u001B[38;5;241;43m=\u001B[39;49m\u001B[38;5;28;43mself\u001B[39;49m\u001B[38;5;241;43m.\u001B[39;49m\u001B[43m_eps\u001B[49m\u001B[43m,\u001B[49m\n\u001B[1;32m    259\u001B[0m \u001B[43m    \u001B[49m\u001B[43menforce_boundaries\u001B[49m\u001B[38;5;241;43m=\u001B[39;49m\u001B[38;5;28;43mself\u001B[39;49m\u001B[38;5;241;43m.\u001B[39;49m\u001B[43m_enforce_boundaries\u001B[49m\u001B[43m,\u001B[49m\n\u001B[1;32m    260\u001B[0m \u001B[43m    \u001B[49m\u001B[43mraise_warnings\u001B[49m\u001B[38;5;241;43m=\u001B[39;49m\u001B[38;5;28;43mself\u001B[39;49m\u001B[38;5;241;43m.\u001B[39;49m\u001B[43m_raise_warnings\u001B[49m\u001B[43m,\u001B[49m\n\u001B[1;32m    261\u001B[0m \u001B[43m\u001B[49m\u001B[43m)\u001B[49m\n\u001B[1;32m    263\u001B[0m dlogp \u001B[38;5;241m+\u001B[39m\u001B[38;5;241m=\u001B[39m dlogp_b\n\u001B[1;32m    265\u001B[0m \u001B[38;5;28;01mreturn\u001B[39;00m (x0, x1, x2, dlogp)\n",
      "File \u001B[0;32m~/mambaforge/envs/lightning_bg/lib/python3.10/site-packages/bgflow/nn/flow/crd_transform/ic_helper.py:515\u001B[0m, in \u001B[0;36minit_ics2xyz\u001B[0;34m(x0, d01, d12, a012, alpha, beta, gamma, eps, enforce_boundaries, raise_warnings)\u001B[0m\n\u001B[1;32m    510\u001B[0m \u001B[38;5;66;03m# enable grad to use autograd for jacobian computation\u001B[39;00m\n\u001B[1;32m    511\u001B[0m \u001B[38;5;28;01mwith\u001B[39;00m torch\u001B[38;5;241m.\u001B[39menable_grad():\n\u001B[1;32m    512\u001B[0m \n\u001B[1;32m    513\u001B[0m     \u001B[38;5;66;03m# needed for autograd backward pass\u001B[39;00m\n\u001B[1;32m    514\u001B[0m     \u001B[38;5;66;03m# we flatten the x0, the ics and the euler angles into a 9-dimensional state vector\u001B[39;00m\n\u001B[0;32m--> 515\u001B[0m     xs \u001B[38;5;241m=\u001B[39m \u001B[43mtorch\u001B[49m\u001B[38;5;241;43m.\u001B[39;49m\u001B[43mcat\u001B[49m\u001B[43m(\u001B[49m\n\u001B[1;32m    516\u001B[0m \u001B[43m        \u001B[49m\u001B[43m[\u001B[49m\u001B[43mx0\u001B[49m\u001B[38;5;241;43m.\u001B[39;49m\u001B[43msqueeze\u001B[49m\u001B[43m(\u001B[49m\u001B[38;5;241;43m-\u001B[39;49m\u001B[38;5;241;43m2\u001B[39;49m\u001B[43m)\u001B[49m\u001B[43m,\u001B[49m\u001B[43m \u001B[49m\u001B[43md01\u001B[49m\u001B[43m,\u001B[49m\u001B[43m \u001B[49m\u001B[43md12\u001B[49m\u001B[43m,\u001B[49m\u001B[43m \u001B[49m\u001B[43ma012\u001B[49m\u001B[43m,\u001B[49m\u001B[43m \u001B[49m\u001B[43malpha\u001B[49m\u001B[43m,\u001B[49m\u001B[43m \u001B[49m\u001B[43mbeta\u001B[49m\u001B[43m,\u001B[49m\u001B[43m \u001B[49m\u001B[43mgamma\u001B[49m\u001B[43m]\u001B[49m\u001B[43m,\u001B[49m\u001B[43m \u001B[49m\u001B[43mdim\u001B[49m\u001B[38;5;241;43m=\u001B[39;49m\u001B[38;5;241;43m-\u001B[39;49m\u001B[38;5;241;43m1\u001B[39;49m\n\u001B[1;32m    517\u001B[0m \u001B[43m    \u001B[49m\u001B[43m)\u001B[49m\u001B[38;5;241m.\u001B[39mrequires_grad_(\u001B[38;5;28;01mTrue\u001B[39;00m)\n\u001B[1;32m    519\u001B[0m     \u001B[38;5;28;01mdef\u001B[39;00m \u001B[38;5;21m_callback\u001B[39m(xs):\n\u001B[1;32m    520\u001B[0m         x0 \u001B[38;5;241m=\u001B[39m xs[\u001B[38;5;241m.\u001B[39m\u001B[38;5;241m.\u001B[39m\u001B[38;5;241m.\u001B[39m, :\u001B[38;5;241m3\u001B[39m]\u001B[38;5;241m.\u001B[39munsqueeze(\u001B[38;5;241m-\u001B[39m\u001B[38;5;241m2\u001B[39m)\n",
      "\u001B[0;31mRuntimeError\u001B[0m: Sizes of tensors must match except in dimension 1. Expected size 3 but got size 10000 for tensor number 1 in the list."
     ]
    }
   ],
   "source": [
    "energyIC = system_1b4z.energy_model.energy(model_1b4z_RNVPICfwkl.sample((10_000,))).cpu().detach().numpy()\n",
    "# energyIC2 = system_1b4z.energy_model.energy(model_1b4z_RNVPICfwkl2.sample((10_000,))).cpu().detach().numpy()\n",
    "energyCC = system_1b4z.energy_model.energy(model_1b4z_RNVPfwkl.sample((10_000,))).cpu().detach().numpy()\n",
    "energy_target = system_1b4z.energy_model.energy(test_1b4z[:10_000]).cpu().detach().numpy()"
   ]
  },
  {
   "cell_type": "code",
   "execution_count": null,
   "id": "e7b84d474c398a37",
   "metadata": {
    "collapsed": false,
    "ExecuteTime": {
     "start_time": "2023-12-01T11:37:18.658726737Z"
    }
   },
   "outputs": [],
   "source": [
    "plt.hist(energy_target, bins=100, histtype=\"step\", label=r\"$p^*$\")\n",
    "plt.hist(energyIC, bins=100, histtype=\"step\", label=r\"$\\hat p_{IC}$\", range=(-500, 2000))\n",
    "# plt.hist(energyIC2, bins=100, histtype=\"step\", label=r\"$\\hat p_{IC2}$\", range=(-500, 2000))\n",
    "plt.hist(energyCC, bins=100, histtype=\"step\", label=r\"$\\hat p_{CC}$\", range=(-500, 2000))\n",
    "plt.legend()\n",
    "plt.xlabel(\"Energy [kT]\")\n",
    "plt.ylabel(\"Counts\")\n",
    "plt.yscale(\"log\")\n",
    "plt.title(\"1B4Z\")\n",
    "plt.savefig(\"1b4z_large2.svg\", bbox_inches=\"tight\")"
   ]
  },
  {
   "cell_type": "code",
   "execution_count": 3,
   "outputs": [
    {
     "name": "stdout",
     "output_type": "stream",
     "text": [
      "Using downloaded and verified file: /tmp/alanine-dipeptide-nowater.pdb\n"
     ]
    },
    {
     "name": "stderr",
     "output_type": "stream",
     "text": [
      "/home/kortkamp/mambaforge/envs/lightning_bg/lib/python3.10/site-packages/pandas/core/computation/expressions.py:21: UserWarning: Pandas requires version '2.8.0' or newer of 'numexpr' (version '2.7.3' currently installed).\n",
      "  from pandas.core.computation.check import NUMEXPR_INSTALLED\n"
     ]
    },
    {
     "name": "stdout",
     "output_type": "stream",
     "text": [
      "Using downloaded and verified file: /tmp/alanine-dipeptide-nowater.pdb\n",
      "Using downloaded and verified file: /tmp/alanine-dipeptide-nowater.pdb\n",
      "Using downloaded and verified file: /tmp/alanine-dipeptide-nowater.pdb\n"
     ]
    }
   ],
   "source": [
    "model_alanine_RNVPICfwkl, test_alanine, system_alanine = load_from_checkpoint(\"../data/lightning_logs/alanine_dipeptide/RNVPICfwkl/version_4\", \"../data/Molecules/alanine_dipeptide\", \"RNVPICfwkl\")\n",
    "model_alanine_RNVPfwkl, _, _ = load_from_checkpoint(\"../data/lightning_logs/alanine_dipeptide/RNVPfwkl/version_16\", \"../data/Molecules/alanine_dipeptide\", \"RNVPfwkl\")\n",
    "model_alanine_RQSfwkl, _, _ = load_from_checkpoint(\"../data/lightning_logs/alanine_dipeptide/RQSfwkl/version_2\", \"../data/Molecules/alanine_dipeptide\", \"RQSfwkl\")\n",
    "model_alanine_RNVPfwkl2, _, _ = load_from_checkpoint(\"../data/lightning_logs/alanine_dipeptide/RNVPfwkl/version_10\", \"../data/Molecules/alanine_dipeptide\", \"RNVPfwkl\")"
   ],
   "metadata": {
    "collapsed": false,
    "ExecuteTime": {
     "end_time": "2023-12-01T10:44:54.565284816Z",
     "start_time": "2023-12-01T10:44:09.343441594Z"
    }
   },
   "id": "1d37bc52-1e8e-4193-adcf-73a2e2dc3d26"
  },
  {
   "cell_type": "code",
   "execution_count": 3,
   "outputs": [
    {
     "ename": "NameError",
     "evalue": "name 'model_alanine_RNVPrvkl' is not defined",
     "output_type": "error",
     "traceback": [
      "\u001B[0;31m---------------------------------------------------------------------------\u001B[0m",
      "\u001B[0;31mNameError\u001B[0m                                 Traceback (most recent call last)",
      "Cell \u001B[0;32mIn[3], line 1\u001B[0m\n\u001B[0;32m----> 1\u001B[0m x \u001B[38;5;241m=\u001B[39m \u001B[43mmodel_alanine_RNVPrvkl\u001B[49m\u001B[38;5;241m.\u001B[39msample((\u001B[38;5;241m10000\u001B[39m,))\n\u001B[1;32m      2\u001B[0m energy \u001B[38;5;241m=\u001B[39m system_alanine\u001B[38;5;241m.\u001B[39menergy_model\u001B[38;5;241m.\u001B[39menergy(x)\n\u001B[1;32m      3\u001B[0m z, log_det_JF \u001B[38;5;241m=\u001B[39m model_alanine_RNVPrvkl\u001B[38;5;241m.\u001B[39minn(x)\n",
      "\u001B[0;31mNameError\u001B[0m: name 'model_alanine_RNVPrvkl' is not defined"
     ]
    }
   ],
   "source": [
    "x = model_alanine_RNVPrvkl.sample((10000,))\n",
    "energy = system_alanine.energy_model.energy(x)\n",
    "z, log_det_JF = model_alanine_RNVPrvkl.inn(x)\n",
    "fwkl = - model_alanine_RNVPrvkl.q.log_prob(z) - log_det_JF\n",
    "rvkl = - system_alanine.energy_model.energy(x) + log_det_JF\n",
    "import numpy as np\n",
    "energy_median = []\n",
    "for i in range(100):\n",
    "    x = model_alanine_RNVPrvkl.sample((1000,))\n",
    "    energy = system_alanine.energy_model.energy(x).detach().cpu().numpy()\n",
    "    energy_median.append(np.median(energy))\n",
    "print(fwkl.mean(), fwkl.std())\n",
    "print(rvkl.mean(), rvkl.std())\n",
    "print(np.mean(energy_median), np.std(energy_median))"
   ],
   "metadata": {
    "collapsed": false,
    "ExecuteTime": {
     "end_time": "2023-12-01T09:21:54.185849873Z",
     "start_time": "2023-12-01T09:21:53.617748346Z"
    }
   },
   "id": "91266b64487ab73a"
  },
  {
   "cell_type": "code",
   "execution_count": 5,
   "outputs": [
    {
     "name": "stdout",
     "output_type": "stream",
     "text": [
      "tensor(-274.2210, device='cuda:0', grad_fn=<MeanBackward0>) tensor(10.5719, device='cuda:0', grad_fn=<StdBackward0>)\n",
      "tensor(-10346271., device='cuda:0', grad_fn=<MeanBackward0>) tensor(1.0344e+09, device='cuda:0', grad_fn=<StdBackward0>)\n",
      "-9.308578 1.0654607\n"
     ]
    }
   ],
   "source": [
    "x = model_alanine_RNVPfwkl.sample((10000,))\n",
    "energy = system_alanine.energy_model.energy(x).squeeze()\n",
    "z, log_det_JF = model_alanine_RNVPfwkl.inn(x)\n",
    "fwkl = - model_alanine_RNVPfwkl.q.log_prob(z) - log_det_JF\n",
    "rvkl = - energy + log_det_JF\n",
    "energy_median = []\n",
    "for i in range(100):\n",
    "    x = model_alanine_RNVPfwkl.sample((1000,))\n",
    "    energy = system_alanine.energy_model.energy(x).detach().cpu().numpy()\n",
    "    energy_median.append(np.median(energy))\n",
    "print(fwkl.mean(), fwkl.std())\n",
    "print(rvkl.mean(), rvkl.std())\n",
    "print(np.mean(energy_median), np.std(energy_median))"
   ],
   "metadata": {
    "collapsed": false,
    "ExecuteTime": {
     "end_time": "2023-12-01T10:48:29.749014724Z",
     "start_time": "2023-12-01T10:47:11.744857790Z"
    }
   },
   "id": "436a1985d6c091b6"
  },
  {
   "cell_type": "code",
   "execution_count": 7,
   "outputs": [
    {
     "name": "stdout",
     "output_type": "stream",
     "text": [
      "tensor(-238.8755, device='cuda:0', grad_fn=<MeanBackward0>) tensor(7.9954, device='cuda:0', grad_fn=<StdBackward0>)\n",
      "tensor(-15317.3486, device='cuda:0', grad_fn=<MeanBackward0>) tensor(1140811.7500, device='cuda:0', grad_fn=<StdBackward0>)\n",
      "99.01467 5.618126\n"
     ]
    }
   ],
   "source": [
    "x = model_alanine_RNVPfwkl2.sample((10000,))\n",
    "energy = system_alanine.energy_model.energy(x).squeeze()\n",
    "z, log_det_JF = model_alanine_RNVPfwkl2.inn(x)\n",
    "fwkl = - model_alanine_RNVPfwkl2.q.log_prob(z) - log_det_JF\n",
    "rvkl = - energy + log_det_JF\n",
    "energy_median = []\n",
    "for i in range(100):\n",
    "    x = model_alanine_RNVPfwkl2.sample((1000,))\n",
    "    energy = system_alanine.energy_model.energy(x).detach().cpu().numpy()\n",
    "    energy_median.append(np.median(energy))\n",
    "print(fwkl.mean(), fwkl.std())\n",
    "print(rvkl.mean(), rvkl.std())\n",
    "print(np.mean(energy_median), np.std(energy_median))"
   ],
   "metadata": {
    "collapsed": false,
    "ExecuteTime": {
     "end_time": "2023-12-01T10:50:48.626233026Z",
     "start_time": "2023-12-01T10:49:42.657943189Z"
    }
   },
   "id": "f74e13bf78bb4244"
  },
  {
   "cell_type": "code",
   "execution_count": 9,
   "outputs": [
    {
     "name": "stdout",
     "output_type": "stream",
     "text": [
      "tensor(-262.0934, device='cuda:0', grad_fn=<MeanBackward0>) tensor(13.0280, device='cuda:0', grad_fn=<StdBackward0>)\n",
      "tensor(-15615.4297, device='cuda:0', grad_fn=<MeanBackward0>) tensor(952705.6250, device='cuda:0', grad_fn=<StdBackward0>)\n",
      "62.72245 3.4907382\n"
     ]
    }
   ],
   "source": [
    "x = model_alanine_RQSfwkl.sample((10000,))\n",
    "energy = system_alanine.energy_model.energy(x).squeeze()\n",
    "z, log_det_JF = model_alanine_RQSfwkl.inn(x)\n",
    "fwkl = - model_alanine_RQSfwkl.q.log_prob(z) - log_det_JF\n",
    "rvkl = - energy + log_det_JF\n",
    "energy_median = []\n",
    "for i in range(100):\n",
    "    x = model_alanine_RQSfwkl.sample((1000,))\n",
    "    energy = system_alanine.energy_model.energy(x).detach().cpu().numpy()\n",
    "    energy_median.append(np.median(energy))\n",
    "print(fwkl.mean(), fwkl.std())\n",
    "print(rvkl.mean(), rvkl.std())\n",
    "print(np.mean(energy_median), np.std(energy_median))"
   ],
   "metadata": {
    "collapsed": false,
    "ExecuteTime": {
     "end_time": "2023-12-01T11:02:11.831972678Z",
     "start_time": "2023-12-01T11:00:58.624601911Z"
    }
   },
   "id": "f49beeb8acad5b7f"
  },
  {
   "cell_type": "code",
   "execution_count": 35,
   "outputs": [],
   "source": [
    "# energyIC = system_alanine.energy_model.energy(model_alanine_RNVPICfwkl.sample((10_000,))).cpu().detach().numpy()\n",
    "energyCC2 = system_alanine.energy_model.energy(model_alanine_RNVPfwkl2.sample((10_000,))).cpu().detach().numpy().squeeze()\n",
    "energyCC = system_alanine.energy_model.energy(model_alanine_RNVPfwkl.sample((10_000,))).cpu().detach().numpy().squeeze()\n",
    "energyRQS = system_alanine.energy_model.energy(model_alanine_RQSfwkl.sample((10_000,))).cpu().detach().numpy().squeeze()\n",
    "energy_target = system_alanine.energy_model.energy(test_alanine[:10_000]).cpu().detach().numpy().squeeze()"
   ],
   "metadata": {
    "collapsed": false,
    "ExecuteTime": {
     "end_time": "2023-12-01T09:54:10.927511439Z",
     "start_time": "2023-12-01T09:53:46.754988143Z"
    }
   },
   "id": "9d3524f5288863f"
  },
  {
   "cell_type": "code",
   "execution_count": 36,
   "outputs": [
    {
     "data": {
      "text/plain": "Text(0.5, 1.0, 'alanine dipeptide')"
     },
     "execution_count": 36,
     "metadata": {},
     "output_type": "execute_result"
    },
    {
     "data": {
      "text/plain": "<Figure size 640x480 with 1 Axes>",
      "image/png": "[encoded data removed]"
     },
     "metadata": {},
     "output_type": "display_data"
    }
   ],
   "source": [
    "plt.hist(energy_target, bins=100, histtype=\"step\", label=r\"$p^*$\", range=(-100, 100))\n",
    "# plt.hist(energyIC, bins=100, histtype=\"step\", label=r\"$\\hat p_{IC}$\", range=(-100, 100))\n",
    "# plt.hist(energyIC2, bins=100, histtype=\"step\", label=r\"$\\hat p_{IC2}$\", range=(-500, 2000))\n",
    "plt.hist(energyRQS, bins=100, histtype=\"step\", label=r\"$\\hat p_{RQS}$\", range=(-100, 100))\n",
    "plt.hist(energyCC, bins=100, histtype=\"step\", label=r\"$\\hat p_{CC}$\", range=(-100, 100))\n",
    "plt.legend()\n",
    "plt.xlabel(\"Energy [kT]\")\n",
    "plt.ylabel(\"Counts\")\n",
    "plt.yscale(\"log\")\n",
    "plt.title(\"alanine dipeptide\")"
   ],
   "metadata": {
    "collapsed": false,
    "ExecuteTime": {
     "end_time": "2023-12-01T09:54:33.689679381Z",
     "start_time": "2023-12-01T09:54:33.314792526Z"
    }
   },
   "id": "60e16df57d9025c7"
  },
  {
   "cell_type": "code",
   "execution_count": null,
   "id": "9728fb10d7fc74de",
   "metadata": {
    "collapsed": false,
    "ExecuteTime": {
     "start_time": "2023-11-28T10:38:39.689698804Z"
    }
   },
   "outputs": [],
   "source": [
    "model_1qka_RNVPICfwkl, test_1qka, system_1qka = load_from_checkpoint(\"../data/lightning_logs/OppA/Peptides/1qka/RNVPICfwkl/version_1\", \"../data/Molecules/OppA/Peptides/1qka\", \"RNVPICfwkl\")\n",
    "model_1qka_RNVPfwkl, _, _ = load_from_checkpoint(\"../data/lightning_logs/OppA/Peptides/1qka/RNVPfwkl/version_1\", \"../data/Molecules/OppA/Peptides/1qka\", \"RNVPfwkl\")"
   ]
  },
  {
   "cell_type": "code",
   "execution_count": null,
   "id": "afc61e7d63353848",
   "metadata": {
    "collapsed": false,
    "ExecuteTime": {
     "start_time": "2023-11-28T10:38:39.732676630Z"
    }
   },
   "outputs": [],
   "source": [
    "energyIC = system_1qka.energy_model.energy(model_1qka_RNVPICfwkl.sample((10_000,))).cpu().detach().numpy()\n",
    "energyCC = system_1qka.energy_model.energy(model_1qka_RNVPfwkl.sample((10_000,))).cpu().detach().numpy()\n",
    "energy_target = system_1qka.energy_model.energy(test_1qka[:10_000]).cpu().detach().numpy()"
   ]
  },
  {
   "cell_type": "code",
   "execution_count": null,
   "id": "588dd130c3a4caeb",
   "metadata": {
    "collapsed": false,
    "ExecuteTime": {
     "start_time": "2023-11-28T10:38:39.732976551Z"
    }
   },
   "outputs": [],
   "source": [
    "plt.hist(energy_target, bins=100, histtype=\"step\", label=r\"$p^*$\")\n",
    "plt.hist(energyIC, bins=100, histtype=\"step\", label=r\"$\\hat p_{IC}$\", range=(-500, 2000))\n",
    "plt.hist(energyCC, bins=100, histtype=\"step\", label=r\"$\\hat p_{CC}$\", range=(-500, 2000))\n",
    "plt.legend()\n",
    "plt.xlabel(\"Energy [k T]\")\n",
    "plt.ylabel(\"Counts\")\n",
    "plt.yscale(\"log\")\n",
    "plt.title(\"Energy of samples from the model and the target distribution\")"
   ]
  },
  {
   "cell_type": "code",
   "execution_count": null,
   "id": "e3863278a83afa59",
   "metadata": {
    "collapsed": false,
    "ExecuteTime": {
     "start_time": "2023-11-28T10:38:39.733229394Z"
    }
   },
   "outputs": [],
   "source": [
    "x = model_1b4z_RNVPICfwkl.sample((100,))\n",
    "energy = system_1b4z.energy_model.energy(x).squeeze()"
   ]
  },
  {
   "cell_type": "code",
   "execution_count": null,
   "id": "6f5d2e36c3abe6da",
   "metadata": {
    "collapsed": false,
    "ExecuteTime": {
     "start_time": "2023-11-28T10:38:39.733448814Z"
    }
   },
   "outputs": [],
   "source": [
    "log_prob = model_1b4z_RNVPICfwkl.log_prob(x).cpu().detach().numpy()"
   ]
  },
  {
   "cell_type": "code",
   "execution_count": null,
   "id": "34a894772954e4d5",
   "metadata": {
    "collapsed": false,
    "ExecuteTime": {
     "start_time": "2023-11-28T10:38:39.733658617Z"
    }
   },
   "outputs": [],
   "source": [
    "new = (log_prob - energy.cpu().detach().numpy())"
   ]
  },
  {
   "cell_type": "code",
   "execution_count": null,
   "id": "c729eb7f-f338-4b30-b2a5-fc0ef6524a06",
   "metadata": {
    "ExecuteTime": {
     "start_time": "2023-11-28T10:38:39.733843162Z"
    }
   },
   "outputs": [],
   "source": [
    "energy"
   ]
  },
  {
   "cell_type": "code",
   "execution_count": null,
   "id": "4b55a0ec-1634-4ddf-bd16-cd6f661f9531",
   "metadata": {
    "ExecuteTime": {
     "end_time": "2023-11-28T10:38:39.752699857Z",
     "start_time": "2023-11-28T10:38:39.734035972Z"
    }
   },
   "outputs": [],
   "source": []
  }
 ],
 "metadata": {
  "kernelspec": {
   "display_name": "Python 3 (ipykernel)",
   "language": "python",
   "name": "python3"
  },
  "language_info": {
   "codemirror_mode": {
    "name": "ipython",
    "version": 3
   },
   "file_extension": ".py",
   "mimetype": "text/x-python",
   "name": "python",
   "nbconvert_exporter": "python",
   "pygments_lexer": "ipython3",
   "version": "3.10.9"
  }
 },
 "nbformat": 4,
 "nbformat_minor": 5
}
