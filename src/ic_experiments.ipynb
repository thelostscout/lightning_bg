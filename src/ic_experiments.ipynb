{
 "cells": [
  {
   "cell_type": "code",
   "execution_count": 1,
   "id": "initial_id",
   "metadata": {
    "ExecuteTime": {
     "end_time": "2023-11-23T16:00:15.021005356Z",
     "start_time": "2023-11-23T16:00:10.042430942Z"
    }
   },
   "outputs": [],
   "source": [
    "import bgflow as bg\n",
    "import bgmol\n",
    "import torch\n",
    "import FrEIA.modules as Fm\n",
    "import FrEIA.framework as Ff\n",
    "from typing import Tuple, Iterable, List\n",
    "\n",
    "import torch.nn as nn\n",
    "from torch import Tensor\n",
    "from bgmol.systems import peptide\n",
    "import mdtraj"
   ]
  },
  {
   "cell_type": "code",
   "execution_count": 2,
   "id": "2086d481dc4a8c40",
   "metadata": {
    "collapsed": false,
    "ExecuteTime": {
     "end_time": "2023-11-23T16:00:17.703160874Z",
     "start_time": "2023-11-23T16:00:15.018156309Z"
    }
   },
   "outputs": [
    {
     "name": "stdout",
     "output_type": "stream",
     "text": [
      "Using downloaded and verified file: /tmp/alanine-dipeptide-nowater.pdb\n"
     ]
    }
   ],
   "source": [
    "molecule_path = \"../data/Molecules/Dialanine\"\n",
    "ala_data = bgmol.datasets.Ala2TSF300(download=False, read=True, root=molecule_path)\n",
    "system = ala_data.system"
   ]
  },
  {
   "cell_type": "code",
   "execution_count": 3,
   "id": "e122dbf5f066bcd4",
   "metadata": {
    "collapsed": false,
    "ExecuteTime": {
     "end_time": "2023-11-23T16:00:17.872821752Z",
     "start_time": "2023-11-23T16:00:17.693668741Z"
    }
   },
   "outputs": [],
   "source": [
    "zfactory = bgmol.zmatrix.ZMatrixFactory(system.mdtraj_topology)\n",
    "zmatrix, fixed_atoms = zfactory.build_naive()"
   ]
  },
  {
   "cell_type": "code",
   "execution_count": 4,
   "id": "b743c6385f7ba72a",
   "metadata": {
    "collapsed": false,
    "ExecuteTime": {
     "end_time": "2023-11-23T16:00:17.902541209Z",
     "start_time": "2023-11-23T16:00:17.877145823Z"
    }
   },
   "outputs": [],
   "source": [
    "ic_layer = bg.GlobalInternalCoordinateTransformation(zmatrix)"
   ]
  },
  {
   "cell_type": "code",
   "execution_count": 5,
   "id": "d71c7d49f097069d",
   "metadata": {
    "collapsed": false,
    "ExecuteTime": {
     "end_time": "2023-11-23T16:00:17.922551227Z",
     "start_time": "2023-11-23T16:00:17.883416691Z"
    }
   },
   "outputs": [
    {
     "data": {
      "text/plain": "torch.Size([100, 66])"
     },
     "execution_count": 5,
     "metadata": {},
     "output_type": "execute_result"
    }
   ],
   "source": [
    "xyz = torch.Tensor(ala_data.coordinates.reshape(-1, ala_data.dim))[:100]\n",
    "xyz.shape"
   ]
  },
  {
   "cell_type": "code",
   "execution_count": 6,
   "id": "4b9f636ac91bfd1f",
   "metadata": {
    "collapsed": false,
    "ExecuteTime": {
     "end_time": "2023-11-23T16:00:18.037325629Z",
     "start_time": "2023-11-23T16:00:17.906810007Z"
    }
   },
   "outputs": [
    {
     "data": {
      "text/plain": "torch.Size([100, 21])"
     },
     "execution_count": 6,
     "metadata": {},
     "output_type": "execute_result"
    }
   ],
   "source": [
    "ic_layer(xyz)[0].shape"
   ]
  },
  {
   "cell_type": "code",
   "execution_count": 7,
   "id": "86d39055c50edd9f",
   "metadata": {
    "collapsed": false,
    "ExecuteTime": {
     "end_time": "2023-11-23T16:00:18.039651086Z",
     "start_time": "2023-11-23T16:00:17.987220510Z"
    }
   },
   "outputs": [],
   "source": [
    "actnorm = Fm.ActNorm([(33,)])"
   ]
  },
  {
   "cell_type": "code",
   "execution_count": 8,
   "id": "520da24a199e2243",
   "metadata": {
    "collapsed": false,
    "ExecuteTime": {
     "end_time": "2023-11-23T16:00:18.040401371Z",
     "start_time": "2023-11-23T16:00:18.028667018Z"
    }
   },
   "outputs": [
    {
     "data": {
      "text/plain": "True"
     },
     "execution_count": 8,
     "metadata": {},
     "output_type": "execute_result"
    }
   ],
   "source": [
    "isinstance(ic_layer, torch.nn.Module)"
   ]
  },
  {
   "cell_type": "code",
   "execution_count": 9,
   "id": "5032fc8f50ce99c5",
   "metadata": {
    "collapsed": false,
    "ExecuteTime": {
     "end_time": "2023-11-23T16:00:18.110144180Z",
     "start_time": "2023-11-23T16:00:18.029118423Z"
    }
   },
   "outputs": [],
   "source": [
    "class ExperimentLayer(Fm.InvertibleModule):\n",
    "    def __init__(self, dims_in):\n",
    "        super().__init__(dims_in)\n",
    "        print(dims_in)\n",
    "        \n",
    "    def output_dims(self, input_dims):\n",
    "        return input_dims"
   ]
  },
  {
   "cell_type": "code",
   "execution_count": 10,
   "id": "7d1b8a16f32a2d88",
   "metadata": {
    "collapsed": false,
    "ExecuteTime": {
     "end_time": "2023-11-23T16:00:18.189674534Z",
     "start_time": "2023-11-23T16:00:18.039276935Z"
    }
   },
   "outputs": [
    {
     "name": "stdout",
     "output_type": "stream",
     "text": [
      "[(66,)]\n"
     ]
    }
   ],
   "source": [
    "inn = Ff.SequenceINN(66)\n",
    "inn.append(ExperimentLayer)"
   ]
  },
  {
   "cell_type": "code",
   "execution_count": 11,
   "id": "ecfc7c5d867e8b29",
   "metadata": {
    "collapsed": false,
    "ExecuteTime": {
     "end_time": "2023-11-23T16:00:18.189968976Z",
     "start_time": "2023-11-23T16:00:18.082247838Z"
    }
   },
   "outputs": [],
   "source": [
    "# noinspection PyShadowingNames\n",
    "class ICTransform(Fm.InvertibleModule):\n",
    "    def __init__(self, dims_in, dims_c=None, system=None):\n",
    "        super().__init__(dims_in, dims_c)\n",
    "        zfactory = bgmol.zmatrix.ZMatrixFactory(system.mdtraj_topology)\n",
    "        zmatrix, fixed_atoms = zfactory.build_naive()\n",
    "        self.bg_layer = bg.GlobalInternalCoordinateTransformation(zmatrix)\n",
    "        \n",
    "    def output_dims(self, input_dims):\n",
    "        return input_dims\n",
    "    \n",
    "    def forward(\n",
    "            self, x_or_z: Iterable[Tensor], \n",
    "            c: Iterable[Tensor] = None,\n",
    "            rev: bool = False, \n",
    "            jac: bool = True\n",
    "        ) -> Tuple[Tuple[Tensor], Tensor]:\n",
    "        x_or_z = x_or_z[0]\n",
    "        if not rev:\n",
    "            bonds, angles, torsions, loc, rot, jac_det = self.bg_layer._forward(x_or_z)\n",
    "            origin = torch.zeros([x_or_z.shape[0], 6], device=x_or_z.device)\n",
    "            out = torch.cat([bonds, angles, torsions, origin], dim=1)\n",
    "        else:\n",
    "            bonds = x_or_z[:, :self.bg_layer.dim_bonds]\n",
    "            angles = x_or_z[:, self.bg_layer.dim_bonds:self.bg_layer.dim_bonds + self.bg_layer.dim_angles]\n",
    "            torsions = x_or_z[:, self.bg_layer.dim_bonds + self.bg_layer.dim_angles:self.bg_layer.dim_bonds + self.bg_layer.dim_angles + self.bg_layer.dim_torsions]\n",
    "            loc = torch.zeros([x_or_z.shape[0], 1, 3], device=x_or_z.device)\n",
    "            rot = torch.zeros([x_or_z.shape[0], 3], device=x_or_z.device)\n",
    "            out, jac_det = self.bg_layer._inverse(bonds, angles, torsions, loc, rot)\n",
    "        return (out,), jac_det"
   ]
  },
  {
   "cell_type": "code",
   "execution_count": 12,
   "id": "301195048a8e8837",
   "metadata": {
    "collapsed": false,
    "ExecuteTime": {
     "end_time": "2023-11-23T16:00:18.217114641Z",
     "start_time": "2023-11-23T16:00:18.087170310Z"
    }
   },
   "outputs": [],
   "source": [
    "inn = Ff.SequenceINN(66)\n",
    "inn.append(ICTransform, system=system)"
   ]
  },
  {
   "cell_type": "code",
   "execution_count": 13,
   "id": "eb13d0ac43c4c60",
   "metadata": {
    "collapsed": false,
    "ExecuteTime": {
     "end_time": "2023-11-23T16:00:18.222196162Z",
     "start_time": "2023-11-23T16:00:18.148245770Z"
    }
   },
   "outputs": [],
   "source": [
    "ic = inn(torch.Tensor(xyz))[0]"
   ]
  },
  {
   "cell_type": "code",
   "execution_count": 14,
   "id": "f32ed77db454f78b",
   "metadata": {
    "collapsed": false,
    "ExecuteTime": {
     "end_time": "2023-11-23T16:00:18.249953713Z",
     "start_time": "2023-11-23T16:00:18.158576855Z"
    }
   },
   "outputs": [],
   "source": [
    "reconstructed = inn(ic, rev=True)[0]"
   ]
  },
  {
   "cell_type": "code",
   "execution_count": 15,
   "id": "3998051a5d3cf721",
   "metadata": {
    "collapsed": false,
    "ExecuteTime": {
     "end_time": "2023-11-23T16:00:19.311899507Z",
     "start_time": "2023-11-23T16:00:18.199634864Z"
    }
   },
   "outputs": [
    {
     "data": {
      "text/plain": "",
      "application/vnd.jupyter.widget-view+json": {
       "version_major": 2,
       "version_minor": 0,
       "model_id": "c347b38672e249aab63a42422428d6ce"
      }
     },
     "metadata": {},
     "output_type": "display_data"
    },
    {
     "data": {
      "text/plain": "ShowTraj(children=(NGLWidget(max_frame=99), BoundedFloatText(value=-26.55, description='Energy:', max=1e+50, m…",
      "application/vnd.jupyter.widget-view+json": {
       "version_major": 2,
       "version_minor": 0,
       "model_id": "780c3cf3c84646ffb1c1da5c2504829d"
      }
     },
     "execution_count": 15,
     "metadata": {},
     "output_type": "execute_result"
    }
   ],
   "source": [
    "from src.lightning_bg.evaluate import ShowTraj\n",
    "w = ShowTraj(reconstructed, system)\n",
    "w"
   ]
  },
  {
   "cell_type": "code",
   "execution_count": 16,
   "id": "6946e374ca43cd68",
   "metadata": {
    "collapsed": false,
    "ExecuteTime": {
     "end_time": "2023-11-23T16:00:20.352913407Z",
     "start_time": "2023-11-23T16:00:19.359292044Z"
    }
   },
   "outputs": [
    {
     "name": "stdout",
     "output_type": "stream",
     "text": [
      "Number of atoms: 59, residues: 3\n"
     ]
    }
   ],
   "source": [
    "molecule_path = \"../data/Molecules/OppA/Peptides/1b4z\"\n",
    "with open(molecule_path.rstrip(\"/\") + \"/top.pdb\", 'r') as file:\n",
    "    lines = file.readlines()\n",
    "    lastline = lines[-3]\n",
    "    n_atoms = int(lastline[4:11].strip())\n",
    "    n_res = int(lastline[22:26].strip())\n",
    "    print(f\"Number of atoms: {n_atoms}, residues: {n_res}\")\n",
    "\n",
    "# define system & energy model\n",
    "system = peptide(short=False, n_atoms=n_atoms, n_res=n_res, filepath=molecule_path)\n",
    "system.reinitialize_energy_model(temperature=300., n_workers=1)\n",
    "energy_model = system.energy_model\n",
    "\n",
    "traj = mdtraj.load_hdf5(molecule_path + \"/traj.h5\")\n",
    "coordinates = traj.xyz[:10]\n"
   ]
  },
  {
   "cell_type": "code",
   "execution_count": 17,
   "outputs": [
    {
     "name": "stderr",
     "output_type": "stream",
     "text": [
      "/home/kortkamp/BG/modules/bgmol/bgmol/zmatrix.py:317: UserWarning: Z-matrix torsions are not fully independent because of a constraint on HA.\n",
      "  warnings.warn(\"Z-matrix torsions are not fully independent because of a constraint on HA.\")\n"
     ]
    }
   ],
   "source": [
    "inn = Ff.SequenceINN(59*3)\n",
    "inn.append(ICTransform, system=system)"
   ],
   "metadata": {
    "collapsed": false,
    "ExecuteTime": {
     "end_time": "2023-11-23T16:00:20.425073804Z",
     "start_time": "2023-11-23T16:00:20.340518746Z"
    }
   },
   "id": "989a70384f86feda"
  },
  {
   "cell_type": "code",
   "execution_count": 18,
   "outputs": [],
   "source": [
    "ic = inn(torch.Tensor(coordinates))[0]"
   ],
   "metadata": {
    "collapsed": false,
    "ExecuteTime": {
     "end_time": "2023-11-23T16:00:20.475815315Z",
     "start_time": "2023-11-23T16:00:20.420004507Z"
    }
   },
   "id": "4100a44be1e212a2"
  },
  {
   "cell_type": "code",
   "execution_count": 19,
   "outputs": [],
   "source": [
    "reconstructed = inn(ic, rev=True)[0]"
   ],
   "metadata": {
    "collapsed": false,
    "ExecuteTime": {
     "end_time": "2023-11-23T16:00:20.499576260Z",
     "start_time": "2023-11-23T16:00:20.462094700Z"
    }
   },
   "id": "27d6fc482f8b4be6"
  },
  {
   "cell_type": "code",
   "execution_count": 20,
   "outputs": [
    {
     "data": {
      "text/plain": "ShowTraj(children=(NGLWidget(max_frame=9), BoundedFloatText(value=-402.54, description='Energy:', max=1e+50, m…",
      "application/vnd.jupyter.widget-view+json": {
       "version_major": 2,
       "version_minor": 0,
       "model_id": "02a0fddb1f1642b68826e9ac16ee96ce"
      }
     },
     "execution_count": 20,
     "metadata": {},
     "output_type": "execute_result"
    }
   ],
   "source": [
    "from src.lightning_bg.evaluate import ShowTraj\n",
    "w = ShowTraj(reconstructed, system)\n",
    "w"
   ],
   "metadata": {
    "collapsed": false,
    "ExecuteTime": {
     "end_time": "2023-11-23T16:00:20.598407543Z",
     "start_time": "2023-11-23T16:00:20.488090221Z"
    }
   },
   "id": "190bb3338c54ca7c"
  },
  {
   "cell_type": "code",
   "execution_count": 20,
   "outputs": [],
   "source": [],
   "metadata": {
    "collapsed": false,
    "ExecuteTime": {
     "start_time": "2023-11-23T16:00:20.630006462Z"
    }
   },
   "id": "b598f60a7ba37402"
  }
 ],
 "metadata": {
  "kernelspec": {
   "display_name": "Python 3 (ipykernel)",
   "language": "python",
   "name": "python3"
  },
  "language_info": {
   "codemirror_mode": {
    "name": "ipython",
    "version": 3
   },
   "file_extension": ".py",
   "mimetype": "text/x-python",
   "name": "python",
   "nbconvert_exporter": "python",
   "pygments_lexer": "ipython3",
   "version": "3.10.9"
  }
 },
 "nbformat": 4,
 "nbformat_minor": 5
}
