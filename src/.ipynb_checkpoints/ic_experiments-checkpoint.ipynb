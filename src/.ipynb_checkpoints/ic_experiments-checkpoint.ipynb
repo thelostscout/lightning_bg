{
 "cells": [
  {
   "cell_type": "code",
   "execution_count": 24,
   "id": "initial_id",
   "metadata": {
    "collapsed": true,
    "ExecuteTime": {
     "end_time": "2023-11-23T15:31:04.253287733Z",
     "start_time": "2023-11-23T15:31:04.201249517Z"
    }
   },
   "outputs": [],
   "source": [
    "import bgflow as bg\n",
    "import bgmol\n",
    "import torch\n",
    "import FrEIA.modules as Fm\n",
    "import FrEIA.framework as Ff\n",
    "from typing import Tuple, Iterable, List\n",
    "\n",
    "import torch.nn as nn\n",
    "from torch import Tensor\n"
   ]
  },
  {
   "cell_type": "code",
   "execution_count": 6,
   "outputs": [
    {
     "name": "stdout",
     "output_type": "stream",
     "text": [
      "Using downloaded and verified file: /tmp/alanine-dipeptide-nowater.pdb\n"
     ]
    }
   ],
   "source": [
    "molecule_path = \"../data/Molecules/Dialanine\"\n",
    "ala_data = bgmol.datasets.Ala2TSF300(download=False, read=True, root=molecule_path)\n",
    "system = ala_data.system"
   ],
   "metadata": {
    "collapsed": false,
    "ExecuteTime": {
     "end_time": "2023-11-23T12:27:12.601221066Z",
     "start_time": "2023-11-23T12:27:07.451005620Z"
    }
   },
   "id": "2086d481dc4a8c40"
  },
  {
   "cell_type": "code",
   "execution_count": 7,
   "outputs": [],
   "source": [
    "zfactory = bgmol.zmatrix.ZMatrixFactory(system.mdtraj_topology)\n",
    "zmatrix, fixed_atoms = zfactory.build_naive()"
   ],
   "metadata": {
    "collapsed": false,
    "ExecuteTime": {
     "end_time": "2023-11-23T12:27:12.618739068Z",
     "start_time": "2023-11-23T12:27:12.576971723Z"
    }
   },
   "id": "e122dbf5f066bcd4"
  },
  {
   "cell_type": "code",
   "execution_count": 8,
   "outputs": [],
   "source": [
    "ic_layer = bg.GlobalInternalCoordinateTransformation(zmatrix)"
   ],
   "metadata": {
    "collapsed": false,
    "ExecuteTime": {
     "end_time": "2023-11-23T12:27:12.619626889Z",
     "start_time": "2023-11-23T12:27:12.604072160Z"
    }
   },
   "id": "b743c6385f7ba72a"
  },
  {
   "cell_type": "code",
   "execution_count": 9,
   "outputs": [
    {
     "data": {
      "text/plain": "torch.Size([100, 66])"
     },
     "execution_count": 9,
     "metadata": {},
     "output_type": "execute_result"
    }
   ],
   "source": [
    "xyz = torch.Tensor(ala_data.coordinates.reshape(-1, ala_data.dim))[:100]\n",
    "xyz.shape"
   ],
   "metadata": {
    "collapsed": false,
    "ExecuteTime": {
     "end_time": "2023-11-23T12:27:12.658144745Z",
     "start_time": "2023-11-23T12:27:12.611838909Z"
    }
   },
   "id": "d71c7d49f097069d"
  },
  {
   "cell_type": "code",
   "execution_count": 22,
   "outputs": [
    {
     "data": {
      "text/plain": "torch.Size([100, 21])"
     },
     "execution_count": 22,
     "metadata": {},
     "output_type": "execute_result"
    }
   ],
   "source": [
    "ic_layer(xyz)[0].shape"
   ],
   "metadata": {
    "collapsed": false,
    "ExecuteTime": {
     "end_time": "2023-11-23T14:50:49.680658953Z",
     "start_time": "2023-11-23T14:50:49.662303644Z"
    }
   },
   "id": "4b9f636ac91bfd1f"
  },
  {
   "cell_type": "code",
   "execution_count": 11,
   "outputs": [],
   "source": [
    "actnorm = Fm.ActNorm([(33,)])"
   ],
   "metadata": {
    "collapsed": false,
    "ExecuteTime": {
     "end_time": "2023-11-23T12:27:12.749921192Z",
     "start_time": "2023-11-23T12:27:12.696559167Z"
    }
   },
   "id": "86d39055c50edd9f"
  },
  {
   "cell_type": "code",
   "execution_count": 12,
   "outputs": [
    {
     "data": {
      "text/plain": "True"
     },
     "execution_count": 12,
     "metadata": {},
     "output_type": "execute_result"
    }
   ],
   "source": [
    "isinstance(ic_layer, torch.nn.Module)"
   ],
   "metadata": {
    "collapsed": false,
    "ExecuteTime": {
     "end_time": "2023-11-23T12:27:12.753861193Z",
     "start_time": "2023-11-23T12:27:12.736765201Z"
    }
   },
   "id": "520da24a199e2243"
  },
  {
   "cell_type": "code",
   "execution_count": 18,
   "outputs": [],
   "source": [
    "class ExperimentLayer(Fm.InvertibleModule):\n",
    "    def __init__(self, dims_in):\n",
    "        super().__init__(dims_in)\n",
    "        print(dims_in)\n",
    "        \n",
    "    def output_dims(self, input_dims):\n",
    "        return input_dims"
   ],
   "metadata": {
    "collapsed": false,
    "ExecuteTime": {
     "end_time": "2023-11-23T13:26:37.255044484Z",
     "start_time": "2023-11-23T13:26:37.212774279Z"
    }
   },
   "id": "5032fc8f50ce99c5"
  },
  {
   "cell_type": "code",
   "execution_count": 19,
   "outputs": [
    {
     "name": "stdout",
     "output_type": "stream",
     "text": [
      "[(66,)]\n"
     ]
    }
   ],
   "source": [
    "inn = Ff.SequenceINN(66)\n",
    "inn.append(ExperimentLayer)"
   ],
   "metadata": {
    "collapsed": false,
    "ExecuteTime": {
     "end_time": "2023-11-23T13:26:37.806248321Z",
     "start_time": "2023-11-23T13:26:37.799799719Z"
    }
   },
   "id": "7d1b8a16f32a2d88"
  },
  {
   "cell_type": "code",
   "execution_count": 33,
   "outputs": [],
   "source": [
    "# noinspection PyShadowingNames\n",
    "class ICTransform(Fm.InvertibleModule):\n",
    "    def __init__(self, dims_in, dims_c=None, system=None):\n",
    "        super().__init__(dims_in, dims_c)\n",
    "        zfactory = bgmol.zmatrix.ZMatrixFactory(system.mdtraj_topology)\n",
    "        zmatrix, fixed_atoms = zfactory.build_naive()\n",
    "        self.bg_layer = bg.GlobalInternalCoordinateTransformation(zmatrix)\n",
    "        \n",
    "    def output_dims(self, input_dims):\n",
    "        return input_dims\n",
    "    \n",
    "    def forward(\n",
    "            self, x_or_z: Iterable[Tensor], \n",
    "            c: Iterable[Tensor] = None,\n",
    "            rev: bool = False, \n",
    "            jac: bool = True\n",
    "        ) -> Tuple[Tuple[Tensor], Tensor]:\n",
    "        x_or_z = x_or_z[0]\n",
    "        if not rev:\n",
    "            bonds, angles, torsions, loc, rot, jac_det = self.bg_layer._forward(x_or_z)\n",
    "            origin = torch.zeros([x_or_z.shape[0], 6], device=x_or_z.device)\n",
    "            out = torch.cat([bonds, angles, torsions, origin], dim=1)\n",
    "        else:\n",
    "            bonds = x_or_z[:, :self.bg_layer.dim_bonds]\n",
    "            angles = x_or_z[:, self.bg_layer.dim_bonds:self.bg_layer.dim_bonds + self.bg_layer.dim_angles]\n",
    "            torsions = x_or_z[:, self.bg_layer.dim_bonds + self.bg_layer.dim_angles:self.bg_layer.dim_bonds + self.bg_layer.dim_angles + self.bg_layer.dim_torsions]\n",
    "            loc = torch.zeros([x_or_z.shape[0], 1, 3], device=x_or_z.device)\n",
    "            rot = torch.zeros([x_or_z.shape[0], 3], device=x_or_z.device)\n",
    "            out, jac_det = self.bg_layer._inverse(bonds, angles, torsions, loc, rot)\n",
    "        \n",
    "        return (out,), jac_det"
   ],
   "metadata": {
    "collapsed": false,
    "ExecuteTime": {
     "end_time": "2023-11-23T15:36:24.639401082Z",
     "start_time": "2023-11-23T15:36:24.603452591Z"
    }
   },
   "id": "ecfc7c5d867e8b29"
  },
  {
   "cell_type": "code",
   "execution_count": 34,
   "outputs": [],
   "source": [
    "inn = Ff.SequenceINN(66)\n",
    "inn.append(ICTransform, system=system)"
   ],
   "metadata": {
    "collapsed": false,
    "ExecuteTime": {
     "end_time": "2023-11-23T15:36:26.452570020Z",
     "start_time": "2023-11-23T15:36:26.385806994Z"
    }
   },
   "id": "301195048a8e8837"
  },
  {
   "cell_type": "code",
   "execution_count": 39,
   "outputs": [],
   "source": [
    "ic = inn(xyz)[0]"
   ],
   "metadata": {
    "collapsed": false,
    "ExecuteTime": {
     "end_time": "2023-11-23T15:40:44.071020912Z",
     "start_time": "2023-11-23T15:40:44.025048872Z"
    }
   },
   "id": "eb13d0ac43c4c60"
  },
  {
   "cell_type": "code",
   "execution_count": 45,
   "outputs": [],
   "source": [
    "reconstructed = inn(ic, rev=True)[0]"
   ],
   "metadata": {
    "collapsed": false,
    "ExecuteTime": {
     "end_time": "2023-11-23T15:45:38.242190906Z",
     "start_time": "2023-11-23T15:45:38.207829880Z"
    }
   },
   "id": "f32ed77db454f78b"
  },
  {
   "cell_type": "code",
   "execution_count": 46,
   "outputs": [
    {
     "data": {
      "text/plain": "ShowTraj(children=(NGLWidget(max_frame=99), BoundedFloatText(value=-26.55, description='Energy:', max=1e+50, m…",
      "application/vnd.jupyter.widget-view+json": {
       "version_major": 2,
       "version_minor": 0,
       "model_id": "7ab3584524e14372b2809def8f75e1cd"
      }
     },
     "execution_count": 46,
     "metadata": {},
     "output_type": "execute_result"
    }
   ],
   "source": [
    "from src.lightning_bg.evaluate import ShowTraj\n",
    "w = ShowTraj(reconstructed, system)\n",
    "w"
   ],
   "metadata": {
    "collapsed": false,
    "ExecuteTime": {
     "end_time": "2023-11-23T15:45:38.974366380Z",
     "start_time": "2023-11-23T15:45:38.799948853Z"
    }
   },
   "id": "3998051a5d3cf721"
  },
  {
   "cell_type": "code",
   "execution_count": null,
   "outputs": [],
   "source": [],
   "metadata": {
    "collapsed": false
   },
   "id": "6946e374ca43cd68"
  }
 ],
 "metadata": {
  "kernelspec": {
   "display_name": "Python 3",
   "language": "python",
   "name": "python3"
  },
  "language_info": {
   "codemirror_mode": {
    "name": "ipython",
    "version": 2
   },
   "file_extension": ".py",
   "mimetype": "text/x-python",
   "name": "python",
   "nbconvert_exporter": "python",
   "pygments_lexer": "ipython2",
   "version": "2.7.6"
  }
 },
 "nbformat": 4,
 "nbformat_minor": 5
}
